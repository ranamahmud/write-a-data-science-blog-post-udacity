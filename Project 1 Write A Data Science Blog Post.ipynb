{
 "cells": [
  {
   "cell_type": "markdown",
   "metadata": {},
   "source": [
    "# How to live Happy Married Life?\n",
    "Author: Md Rana Mahmud"
   ]
  },
  {
   "cell_type": "markdown",
   "metadata": {},
   "source": [
    "<meta name=\"Md Rana Mahmud\" content=\"John Doe\">"
   ]
  },
  {
   "cell_type": "markdown",
   "metadata": {},
   "source": [
    "# Table of Contents:\n",
    "* [Business Understanding](#business)\n",
    "* [Data Understanding](#data)\n",
    "* [Data Preparation](#data-preperation)\n",
    "* [Modeling](#modeling)\n",
    "* [Evaluation](#evaluation)\n",
    "* [Deployment](#deployment)\n",
    "* [Analysis, Modeling, Visualization](#analysis)\n",
    "    1. [Is there a significant difference between Happily Married and Divorced couples?](#q1)\n",
    "    2. [What are the most agreed and disagreed things between the couples?](#q2)\n",
    "    3. [What couples need to focus most to prevent divorce?](#q3)\n",
    "    4. [How accurately we can predict a future divorce?](#q4)"
   ]
  },
  {
   "cell_type": "code",
   "execution_count": 945,
   "metadata": {},
   "outputs": [],
   "source": [
    "# load the necessary libraries\n",
    "import pandas as pd\n",
    "import numpy as np\n",
    "import matplotlib.pyplot as plt\n",
    "import re \n",
    "from itertools import islice\n",
    "from textwrap import TextWrapper\n",
    "# library to to independent sample t test \n",
    "from scipy.stats import chi2_contingency\n",
    "from sklearn.model_selection import train_test_split\n",
    "from sklearn.model_selection import RandomizedSearchCV\n",
    "from sklearn.metrics import precision_score,accuracy_score\n",
    "from sklearn.ensemble import RandomForestClassifier\n",
    "from sklearn.linear_model import LogisticRegressionCV,LogisticRegression\n",
    "from sklearn.model_selection import cross_val_score\n",
    "from sklearn.neighbors import KNeighborsClassifier\n",
    "from sklearn.model_selection import GridSearchCV\n",
    "from tpot import TPOTClassifier\n",
    "from sklearn.feature_selection import RFE\n",
    "import xgboost as xgb\n",
    "from sklearn.svm import LinearSVC\n",
    "%matplotlib inline"
   ]
  },
  {
   "cell_type": "markdown",
   "metadata": {},
   "source": [
    "# Business Understanding <a class=\"anchor\" id=\"business\"></a>"
   ]
  },
  {
   "cell_type": "markdown",
   "metadata": {},
   "source": [
    "Problem Overview"
   ]
  },
  {
   "cell_type": "markdown",
   "metadata": {},
   "source": [
    "Yöntem and İlhan (2017, 2018)  developed the Divorce Predictors Scale based on  Gottman\n",
    "couples therapy (Gottman, 2014; Gottman and Gottman, 2012). Using this scale they've done divorce prediction in their research paper.\n",
    "Gottman couples therapy explains the causes of divorce based on empirical research. In this analysis, we'll try to gain some insight between happily married and divorced couples based on the following questions. Yöntem and İlhan (2017, 2018) collected the data from 7 regions of Turkey. In this data out of 170 couples 84 (49.41%) were divorced and 86 (50.59%) were\n",
    "married couples.\n",
    "\n",
    "In this project I was interested in using Divorce Predictors data set to find out the answer to the following questions:\n",
    "    1. Is there a significant difference between Happily Married and Divorced couples?\n",
    "    2. What are the most agreed and disagreed things between the couples?\n",
    "    3. What couples need to focus most to prevent divorce?\n",
    "    4. How accurately we can predict a future divorce?"
   ]
  },
  {
   "cell_type": "markdown",
   "metadata": {},
   "source": [
    "# Data"
   ]
  },
  {
   "cell_type": "markdown",
   "metadata": {},
   "source": [
    "## Data Understanding <a class=\"anchor\" id=\"data\"></a>"
   ]
  },
  {
   "cell_type": "code",
   "execution_count": 946,
   "metadata": {},
   "outputs": [
    {
     "data": {
      "text/html": [
       "<div>\n",
       "<style scoped>\n",
       "    .dataframe tbody tr th:only-of-type {\n",
       "        vertical-align: middle;\n",
       "    }\n",
       "\n",
       "    .dataframe tbody tr th {\n",
       "        vertical-align: top;\n",
       "    }\n",
       "\n",
       "    .dataframe thead th {\n",
       "        text-align: right;\n",
       "    }\n",
       "</style>\n",
       "<table border=\"1\" class=\"dataframe\">\n",
       "  <thead>\n",
       "    <tr style=\"text-align: right;\">\n",
       "      <th></th>\n",
       "      <th>Atr1</th>\n",
       "      <th>Atr2</th>\n",
       "      <th>Atr3</th>\n",
       "      <th>Atr4</th>\n",
       "      <th>Atr5</th>\n",
       "      <th>Atr6</th>\n",
       "      <th>Atr7</th>\n",
       "      <th>Atr8</th>\n",
       "      <th>Atr9</th>\n",
       "      <th>Atr10</th>\n",
       "      <th>...</th>\n",
       "      <th>Atr46</th>\n",
       "      <th>Atr47</th>\n",
       "      <th>Atr48</th>\n",
       "      <th>Atr49</th>\n",
       "      <th>Atr50</th>\n",
       "      <th>Atr51</th>\n",
       "      <th>Atr52</th>\n",
       "      <th>Atr53</th>\n",
       "      <th>Atr54</th>\n",
       "      <th>Class</th>\n",
       "    </tr>\n",
       "  </thead>\n",
       "  <tbody>\n",
       "    <tr>\n",
       "      <th>0</th>\n",
       "      <td>2</td>\n",
       "      <td>2</td>\n",
       "      <td>4</td>\n",
       "      <td>1</td>\n",
       "      <td>0</td>\n",
       "      <td>0</td>\n",
       "      <td>0</td>\n",
       "      <td>0</td>\n",
       "      <td>0</td>\n",
       "      <td>0</td>\n",
       "      <td>...</td>\n",
       "      <td>2</td>\n",
       "      <td>1</td>\n",
       "      <td>3</td>\n",
       "      <td>3</td>\n",
       "      <td>3</td>\n",
       "      <td>2</td>\n",
       "      <td>3</td>\n",
       "      <td>2</td>\n",
       "      <td>1</td>\n",
       "      <td>1</td>\n",
       "    </tr>\n",
       "    <tr>\n",
       "      <th>1</th>\n",
       "      <td>4</td>\n",
       "      <td>4</td>\n",
       "      <td>4</td>\n",
       "      <td>4</td>\n",
       "      <td>4</td>\n",
       "      <td>0</td>\n",
       "      <td>0</td>\n",
       "      <td>4</td>\n",
       "      <td>4</td>\n",
       "      <td>4</td>\n",
       "      <td>...</td>\n",
       "      <td>2</td>\n",
       "      <td>2</td>\n",
       "      <td>3</td>\n",
       "      <td>4</td>\n",
       "      <td>4</td>\n",
       "      <td>4</td>\n",
       "      <td>4</td>\n",
       "      <td>2</td>\n",
       "      <td>2</td>\n",
       "      <td>1</td>\n",
       "    </tr>\n",
       "    <tr>\n",
       "      <th>2</th>\n",
       "      <td>2</td>\n",
       "      <td>2</td>\n",
       "      <td>2</td>\n",
       "      <td>2</td>\n",
       "      <td>1</td>\n",
       "      <td>3</td>\n",
       "      <td>2</td>\n",
       "      <td>1</td>\n",
       "      <td>1</td>\n",
       "      <td>2</td>\n",
       "      <td>...</td>\n",
       "      <td>3</td>\n",
       "      <td>2</td>\n",
       "      <td>3</td>\n",
       "      <td>1</td>\n",
       "      <td>1</td>\n",
       "      <td>1</td>\n",
       "      <td>2</td>\n",
       "      <td>2</td>\n",
       "      <td>2</td>\n",
       "      <td>1</td>\n",
       "    </tr>\n",
       "    <tr>\n",
       "      <th>3</th>\n",
       "      <td>3</td>\n",
       "      <td>2</td>\n",
       "      <td>3</td>\n",
       "      <td>2</td>\n",
       "      <td>3</td>\n",
       "      <td>3</td>\n",
       "      <td>3</td>\n",
       "      <td>3</td>\n",
       "      <td>3</td>\n",
       "      <td>3</td>\n",
       "      <td>...</td>\n",
       "      <td>2</td>\n",
       "      <td>2</td>\n",
       "      <td>3</td>\n",
       "      <td>3</td>\n",
       "      <td>3</td>\n",
       "      <td>3</td>\n",
       "      <td>2</td>\n",
       "      <td>2</td>\n",
       "      <td>2</td>\n",
       "      <td>1</td>\n",
       "    </tr>\n",
       "    <tr>\n",
       "      <th>4</th>\n",
       "      <td>2</td>\n",
       "      <td>2</td>\n",
       "      <td>1</td>\n",
       "      <td>1</td>\n",
       "      <td>1</td>\n",
       "      <td>1</td>\n",
       "      <td>0</td>\n",
       "      <td>0</td>\n",
       "      <td>0</td>\n",
       "      <td>0</td>\n",
       "      <td>...</td>\n",
       "      <td>2</td>\n",
       "      <td>1</td>\n",
       "      <td>2</td>\n",
       "      <td>3</td>\n",
       "      <td>2</td>\n",
       "      <td>2</td>\n",
       "      <td>2</td>\n",
       "      <td>1</td>\n",
       "      <td>0</td>\n",
       "      <td>1</td>\n",
       "    </tr>\n",
       "  </tbody>\n",
       "</table>\n",
       "<p>5 rows × 55 columns</p>\n",
       "</div>"
      ],
      "text/plain": [
       "   Atr1  Atr2  Atr3  Atr4  Atr5  Atr6  Atr7  Atr8  Atr9  Atr10  ...  Atr46  \\\n",
       "0     2     2     4     1     0     0     0     0     0      0  ...      2   \n",
       "1     4     4     4     4     4     0     0     4     4      4  ...      2   \n",
       "2     2     2     2     2     1     3     2     1     1      2  ...      3   \n",
       "3     3     2     3     2     3     3     3     3     3      3  ...      2   \n",
       "4     2     2     1     1     1     1     0     0     0      0  ...      2   \n",
       "\n",
       "   Atr47  Atr48  Atr49  Atr50  Atr51  Atr52  Atr53  Atr54  Class  \n",
       "0      1      3      3      3      2      3      2      1      1  \n",
       "1      2      3      4      4      4      4      2      2      1  \n",
       "2      2      3      1      1      1      2      2      2      1  \n",
       "3      2      3      3      3      3      2      2      2      1  \n",
       "4      1      2      3      2      2      2      1      0      1  \n",
       "\n",
       "[5 rows x 55 columns]"
      ]
     },
     "execution_count": 946,
     "metadata": {},
     "output_type": "execute_result"
    }
   ],
   "source": [
    "# load the data\n",
    "df = pd.read_excel(\"divorce.xlsx\")\n",
    "# print first few rows of the data\n",
    "df.head()"
   ]
  },
  {
   "cell_type": "code",
   "execution_count": 947,
   "metadata": {},
   "outputs": [
    {
     "data": {
      "text/plain": [
       "Atr1     int64\n",
       "Atr2     int64\n",
       "Atr3     int64\n",
       "Atr4     int64\n",
       "Atr5     int64\n",
       "Atr6     int64\n",
       "Atr7     int64\n",
       "Atr8     int64\n",
       "Atr9     int64\n",
       "Atr10    int64\n",
       "Atr11    int64\n",
       "Atr12    int64\n",
       "Atr13    int64\n",
       "Atr14    int64\n",
       "Atr15    int64\n",
       "Atr16    int64\n",
       "Atr17    int64\n",
       "Atr18    int64\n",
       "Atr19    int64\n",
       "Atr20    int64\n",
       "Atr21    int64\n",
       "Atr22    int64\n",
       "Atr23    int64\n",
       "Atr24    int64\n",
       "Atr25    int64\n",
       "Atr26    int64\n",
       "Atr27    int64\n",
       "Atr28    int64\n",
       "Atr29    int64\n",
       "Atr30    int64\n",
       "Atr31    int64\n",
       "Atr32    int64\n",
       "Atr33    int64\n",
       "Atr34    int64\n",
       "Atr35    int64\n",
       "Atr36    int64\n",
       "Atr37    int64\n",
       "Atr38    int64\n",
       "Atr39    int64\n",
       "Atr40    int64\n",
       "Atr41    int64\n",
       "Atr42    int64\n",
       "Atr43    int64\n",
       "Atr44    int64\n",
       "Atr45    int64\n",
       "Atr46    int64\n",
       "Atr47    int64\n",
       "Atr48    int64\n",
       "Atr49    int64\n",
       "Atr50    int64\n",
       "Atr51    int64\n",
       "Atr52    int64\n",
       "Atr53    int64\n",
       "Atr54    int64\n",
       "Class    int64\n",
       "dtype: object"
      ]
     },
     "execution_count": 947,
     "metadata": {},
     "output_type": "execute_result"
    }
   ],
   "source": [
    "# check data types\n",
    "df.dtypes"
   ]
  },
  {
   "cell_type": "code",
   "execution_count": 948,
   "metadata": {},
   "outputs": [
    {
     "data": {
      "text/plain": [
       "Atr1     0.0\n",
       "Atr2     0.0\n",
       "Atr3     0.0\n",
       "Atr4     0.0\n",
       "Atr5     0.0\n",
       "Atr6     0.0\n",
       "Atr7     0.0\n",
       "Atr8     0.0\n",
       "Atr9     0.0\n",
       "Atr10    0.0\n",
       "Atr11    0.0\n",
       "Atr12    0.0\n",
       "Atr13    0.0\n",
       "Atr14    0.0\n",
       "Atr15    0.0\n",
       "Atr16    0.0\n",
       "Atr17    0.0\n",
       "Atr18    0.0\n",
       "Atr19    0.0\n",
       "Atr20    0.0\n",
       "Atr21    0.0\n",
       "Atr22    0.0\n",
       "Atr23    0.0\n",
       "Atr24    0.0\n",
       "Atr25    0.0\n",
       "Atr26    0.0\n",
       "Atr27    0.0\n",
       "Atr28    0.0\n",
       "Atr29    0.0\n",
       "Atr30    0.0\n",
       "Atr31    0.0\n",
       "Atr32    0.0\n",
       "Atr33    0.0\n",
       "Atr34    0.0\n",
       "Atr35    0.0\n",
       "Atr36    0.0\n",
       "Atr37    0.0\n",
       "Atr38    0.0\n",
       "Atr39    0.0\n",
       "Atr40    0.0\n",
       "Atr41    0.0\n",
       "Atr42    0.0\n",
       "Atr43    0.0\n",
       "Atr44    0.0\n",
       "Atr45    0.0\n",
       "Atr46    0.0\n",
       "Atr47    0.0\n",
       "Atr48    0.0\n",
       "Atr49    0.0\n",
       "Atr50    0.0\n",
       "Atr51    0.0\n",
       "Atr52    0.0\n",
       "Atr53    0.0\n",
       "Atr54    0.0\n",
       "Class    0.0\n",
       "dtype: float64"
      ]
     },
     "execution_count": 948,
     "metadata": {},
     "output_type": "execute_result"
    }
   ],
   "source": [
    "# check percentages of missing values\n",
    "df.isnull().mean()"
   ]
  },
  {
   "cell_type": "markdown",
   "metadata": {},
   "source": [
    "There are no missing values in the data and all the data are numeric and in integer format."
   ]
  },
  {
   "cell_type": "markdown",
   "metadata": {},
   "source": [
    "### check shape of data"
   ]
  },
  {
   "cell_type": "code",
   "execution_count": 949,
   "metadata": {},
   "outputs": [
    {
     "name": "stdout",
     "output_type": "stream",
     "text": [
      "(170, 55)\n"
     ]
    }
   ],
   "source": [
    "# print shape of the data\n",
    "print(df.shape)"
   ]
  },
  {
   "cell_type": "code",
   "execution_count": 950,
   "metadata": {
    "scrolled": true
   },
   "outputs": [
    {
     "data": {
      "text/html": [
       "<div>\n",
       "<style scoped>\n",
       "    .dataframe tbody tr th:only-of-type {\n",
       "        vertical-align: middle;\n",
       "    }\n",
       "\n",
       "    .dataframe tbody tr th {\n",
       "        vertical-align: top;\n",
       "    }\n",
       "\n",
       "    .dataframe thead th {\n",
       "        text-align: right;\n",
       "    }\n",
       "</style>\n",
       "<table border=\"1\" class=\"dataframe\">\n",
       "  <thead>\n",
       "    <tr style=\"text-align: right;\">\n",
       "      <th></th>\n",
       "      <th>Atr1</th>\n",
       "      <th>Atr2</th>\n",
       "      <th>Atr3</th>\n",
       "      <th>Atr4</th>\n",
       "      <th>Atr5</th>\n",
       "      <th>Atr6</th>\n",
       "      <th>Atr7</th>\n",
       "      <th>Atr8</th>\n",
       "      <th>Atr9</th>\n",
       "      <th>Atr10</th>\n",
       "      <th>...</th>\n",
       "      <th>Atr46</th>\n",
       "      <th>Atr47</th>\n",
       "      <th>Atr48</th>\n",
       "      <th>Atr49</th>\n",
       "      <th>Atr50</th>\n",
       "      <th>Atr51</th>\n",
       "      <th>Atr52</th>\n",
       "      <th>Atr53</th>\n",
       "      <th>Atr54</th>\n",
       "      <th>Class</th>\n",
       "    </tr>\n",
       "  </thead>\n",
       "  <tbody>\n",
       "    <tr>\n",
       "      <th>count</th>\n",
       "      <td>170.000000</td>\n",
       "      <td>170.000000</td>\n",
       "      <td>170.000000</td>\n",
       "      <td>170.000000</td>\n",
       "      <td>170.000000</td>\n",
       "      <td>170.000000</td>\n",
       "      <td>170.000000</td>\n",
       "      <td>170.000000</td>\n",
       "      <td>170.000000</td>\n",
       "      <td>170.000000</td>\n",
       "      <td>...</td>\n",
       "      <td>170.000000</td>\n",
       "      <td>170.000000</td>\n",
       "      <td>170.000000</td>\n",
       "      <td>170.000000</td>\n",
       "      <td>170.000000</td>\n",
       "      <td>170.000000</td>\n",
       "      <td>170.000000</td>\n",
       "      <td>170.000000</td>\n",
       "      <td>170.000000</td>\n",
       "      <td>170.000000</td>\n",
       "    </tr>\n",
       "    <tr>\n",
       "      <th>mean</th>\n",
       "      <td>1.776471</td>\n",
       "      <td>1.652941</td>\n",
       "      <td>1.764706</td>\n",
       "      <td>1.482353</td>\n",
       "      <td>1.541176</td>\n",
       "      <td>0.747059</td>\n",
       "      <td>0.494118</td>\n",
       "      <td>1.452941</td>\n",
       "      <td>1.458824</td>\n",
       "      <td>1.576471</td>\n",
       "      <td>...</td>\n",
       "      <td>2.552941</td>\n",
       "      <td>2.270588</td>\n",
       "      <td>2.741176</td>\n",
       "      <td>2.382353</td>\n",
       "      <td>2.429412</td>\n",
       "      <td>2.476471</td>\n",
       "      <td>2.517647</td>\n",
       "      <td>2.241176</td>\n",
       "      <td>2.011765</td>\n",
       "      <td>0.494118</td>\n",
       "    </tr>\n",
       "    <tr>\n",
       "      <th>std</th>\n",
       "      <td>1.627257</td>\n",
       "      <td>1.468654</td>\n",
       "      <td>1.415444</td>\n",
       "      <td>1.504327</td>\n",
       "      <td>1.632169</td>\n",
       "      <td>0.904046</td>\n",
       "      <td>0.898698</td>\n",
       "      <td>1.546371</td>\n",
       "      <td>1.557976</td>\n",
       "      <td>1.421529</td>\n",
       "      <td>...</td>\n",
       "      <td>1.371786</td>\n",
       "      <td>1.586841</td>\n",
       "      <td>1.137348</td>\n",
       "      <td>1.511587</td>\n",
       "      <td>1.405090</td>\n",
       "      <td>1.260238</td>\n",
       "      <td>1.476537</td>\n",
       "      <td>1.505634</td>\n",
       "      <td>1.667611</td>\n",
       "      <td>0.501442</td>\n",
       "    </tr>\n",
       "    <tr>\n",
       "      <th>min</th>\n",
       "      <td>0.000000</td>\n",
       "      <td>0.000000</td>\n",
       "      <td>0.000000</td>\n",
       "      <td>0.000000</td>\n",
       "      <td>0.000000</td>\n",
       "      <td>0.000000</td>\n",
       "      <td>0.000000</td>\n",
       "      <td>0.000000</td>\n",
       "      <td>0.000000</td>\n",
       "      <td>0.000000</td>\n",
       "      <td>...</td>\n",
       "      <td>0.000000</td>\n",
       "      <td>0.000000</td>\n",
       "      <td>0.000000</td>\n",
       "      <td>0.000000</td>\n",
       "      <td>0.000000</td>\n",
       "      <td>0.000000</td>\n",
       "      <td>0.000000</td>\n",
       "      <td>0.000000</td>\n",
       "      <td>0.000000</td>\n",
       "      <td>0.000000</td>\n",
       "    </tr>\n",
       "    <tr>\n",
       "      <th>25%</th>\n",
       "      <td>0.000000</td>\n",
       "      <td>0.000000</td>\n",
       "      <td>0.000000</td>\n",
       "      <td>0.000000</td>\n",
       "      <td>0.000000</td>\n",
       "      <td>0.000000</td>\n",
       "      <td>0.000000</td>\n",
       "      <td>0.000000</td>\n",
       "      <td>0.000000</td>\n",
       "      <td>0.000000</td>\n",
       "      <td>...</td>\n",
       "      <td>2.000000</td>\n",
       "      <td>1.000000</td>\n",
       "      <td>2.000000</td>\n",
       "      <td>1.000000</td>\n",
       "      <td>1.000000</td>\n",
       "      <td>2.000000</td>\n",
       "      <td>1.000000</td>\n",
       "      <td>1.000000</td>\n",
       "      <td>0.000000</td>\n",
       "      <td>0.000000</td>\n",
       "    </tr>\n",
       "    <tr>\n",
       "      <th>50%</th>\n",
       "      <td>2.000000</td>\n",
       "      <td>2.000000</td>\n",
       "      <td>2.000000</td>\n",
       "      <td>1.000000</td>\n",
       "      <td>1.000000</td>\n",
       "      <td>0.000000</td>\n",
       "      <td>0.000000</td>\n",
       "      <td>1.000000</td>\n",
       "      <td>1.000000</td>\n",
       "      <td>2.000000</td>\n",
       "      <td>...</td>\n",
       "      <td>3.000000</td>\n",
       "      <td>2.000000</td>\n",
       "      <td>3.000000</td>\n",
       "      <td>3.000000</td>\n",
       "      <td>2.000000</td>\n",
       "      <td>3.000000</td>\n",
       "      <td>3.000000</td>\n",
       "      <td>2.000000</td>\n",
       "      <td>2.000000</td>\n",
       "      <td>0.000000</td>\n",
       "    </tr>\n",
       "    <tr>\n",
       "      <th>75%</th>\n",
       "      <td>3.000000</td>\n",
       "      <td>3.000000</td>\n",
       "      <td>3.000000</td>\n",
       "      <td>3.000000</td>\n",
       "      <td>3.000000</td>\n",
       "      <td>1.000000</td>\n",
       "      <td>1.000000</td>\n",
       "      <td>3.000000</td>\n",
       "      <td>3.000000</td>\n",
       "      <td>3.000000</td>\n",
       "      <td>...</td>\n",
       "      <td>4.000000</td>\n",
       "      <td>4.000000</td>\n",
       "      <td>4.000000</td>\n",
       "      <td>4.000000</td>\n",
       "      <td>4.000000</td>\n",
       "      <td>4.000000</td>\n",
       "      <td>4.000000</td>\n",
       "      <td>4.000000</td>\n",
       "      <td>4.000000</td>\n",
       "      <td>1.000000</td>\n",
       "    </tr>\n",
       "    <tr>\n",
       "      <th>max</th>\n",
       "      <td>4.000000</td>\n",
       "      <td>4.000000</td>\n",
       "      <td>4.000000</td>\n",
       "      <td>4.000000</td>\n",
       "      <td>4.000000</td>\n",
       "      <td>4.000000</td>\n",
       "      <td>4.000000</td>\n",
       "      <td>4.000000</td>\n",
       "      <td>4.000000</td>\n",
       "      <td>4.000000</td>\n",
       "      <td>...</td>\n",
       "      <td>4.000000</td>\n",
       "      <td>4.000000</td>\n",
       "      <td>4.000000</td>\n",
       "      <td>4.000000</td>\n",
       "      <td>4.000000</td>\n",
       "      <td>4.000000</td>\n",
       "      <td>4.000000</td>\n",
       "      <td>4.000000</td>\n",
       "      <td>4.000000</td>\n",
       "      <td>1.000000</td>\n",
       "    </tr>\n",
       "  </tbody>\n",
       "</table>\n",
       "<p>8 rows × 55 columns</p>\n",
       "</div>"
      ],
      "text/plain": [
       "             Atr1        Atr2        Atr3        Atr4        Atr5        Atr6  \\\n",
       "count  170.000000  170.000000  170.000000  170.000000  170.000000  170.000000   \n",
       "mean     1.776471    1.652941    1.764706    1.482353    1.541176    0.747059   \n",
       "std      1.627257    1.468654    1.415444    1.504327    1.632169    0.904046   \n",
       "min      0.000000    0.000000    0.000000    0.000000    0.000000    0.000000   \n",
       "25%      0.000000    0.000000    0.000000    0.000000    0.000000    0.000000   \n",
       "50%      2.000000    2.000000    2.000000    1.000000    1.000000    0.000000   \n",
       "75%      3.000000    3.000000    3.000000    3.000000    3.000000    1.000000   \n",
       "max      4.000000    4.000000    4.000000    4.000000    4.000000    4.000000   \n",
       "\n",
       "             Atr7        Atr8        Atr9       Atr10  ...       Atr46  \\\n",
       "count  170.000000  170.000000  170.000000  170.000000  ...  170.000000   \n",
       "mean     0.494118    1.452941    1.458824    1.576471  ...    2.552941   \n",
       "std      0.898698    1.546371    1.557976    1.421529  ...    1.371786   \n",
       "min      0.000000    0.000000    0.000000    0.000000  ...    0.000000   \n",
       "25%      0.000000    0.000000    0.000000    0.000000  ...    2.000000   \n",
       "50%      0.000000    1.000000    1.000000    2.000000  ...    3.000000   \n",
       "75%      1.000000    3.000000    3.000000    3.000000  ...    4.000000   \n",
       "max      4.000000    4.000000    4.000000    4.000000  ...    4.000000   \n",
       "\n",
       "            Atr47       Atr48       Atr49       Atr50       Atr51       Atr52  \\\n",
       "count  170.000000  170.000000  170.000000  170.000000  170.000000  170.000000   \n",
       "mean     2.270588    2.741176    2.382353    2.429412    2.476471    2.517647   \n",
       "std      1.586841    1.137348    1.511587    1.405090    1.260238    1.476537   \n",
       "min      0.000000    0.000000    0.000000    0.000000    0.000000    0.000000   \n",
       "25%      1.000000    2.000000    1.000000    1.000000    2.000000    1.000000   \n",
       "50%      2.000000    3.000000    3.000000    2.000000    3.000000    3.000000   \n",
       "75%      4.000000    4.000000    4.000000    4.000000    4.000000    4.000000   \n",
       "max      4.000000    4.000000    4.000000    4.000000    4.000000    4.000000   \n",
       "\n",
       "            Atr53       Atr54       Class  \n",
       "count  170.000000  170.000000  170.000000  \n",
       "mean     2.241176    2.011765    0.494118  \n",
       "std      1.505634    1.667611    0.501442  \n",
       "min      0.000000    0.000000    0.000000  \n",
       "25%      1.000000    0.000000    0.000000  \n",
       "50%      2.000000    2.000000    0.000000  \n",
       "75%      4.000000    4.000000    1.000000  \n",
       "max      4.000000    4.000000    1.000000  \n",
       "\n",
       "[8 rows x 55 columns]"
      ]
     },
     "execution_count": 950,
     "metadata": {},
     "output_type": "execute_result"
    }
   ],
   "source": [
    "# check value counts of the attributes\n",
    "df.describe()"
   ]
  },
  {
   "cell_type": "code",
   "execution_count": 951,
   "metadata": {},
   "outputs": [
    {
     "data": {
      "text/plain": [
       "Index(['Atr1', 'Atr2', 'Atr3', 'Atr4', 'Atr5', 'Atr6', 'Atr7', 'Atr8', 'Atr9',\n",
       "       'Atr10', 'Atr11', 'Atr12', 'Atr13', 'Atr14', 'Atr15', 'Atr16', 'Atr17',\n",
       "       'Atr18', 'Atr19', 'Atr20', 'Atr21', 'Atr22', 'Atr23', 'Atr24', 'Atr25',\n",
       "       'Atr26', 'Atr27', 'Atr28', 'Atr29', 'Atr30', 'Atr31', 'Atr32', 'Atr33',\n",
       "       'Atr34', 'Atr35', 'Atr36', 'Atr37', 'Atr38', 'Atr39', 'Atr40', 'Atr41',\n",
       "       'Atr42', 'Atr43', 'Atr44', 'Atr45', 'Atr46', 'Atr47', 'Atr48', 'Atr49',\n",
       "       'Atr50', 'Atr51', 'Atr52', 'Atr53', 'Atr54', 'Class'],\n",
       "      dtype='object')"
      ]
     },
     "execution_count": 951,
     "metadata": {},
     "output_type": "execute_result"
    }
   ],
   "source": [
    "df.columns"
   ]
  },
  {
   "cell_type": "markdown",
   "metadata": {},
   "source": [
    "This data 55 variable and 170 observations. Variable Atr1 to Atr54 are questions asked to the couples and Class indicates whether they're divorced or not."
   ]
  },
  {
   "cell_type": "markdown",
   "metadata": {},
   "source": [
    "## Data Preperation <a class=\"anchor\" id=\"data-preperation\"></a>"
   ]
  },
  {
   "cell_type": "code",
   "execution_count": 952,
   "metadata": {},
   "outputs": [],
   "source": [
    "# first we'll create a dictionary of the original questions\n",
    "questions = \"1. If one of us apologizes when our discussion deteriorates,\\\n",
    "the discussion ends. 2. I know we can ignore our differences, even if things \\\n",
    "get hard sometimes. 3. When we need it, we can take our discussions with my \\\n",
    "spouse from the beginning and correct it. 4. When I discuss with my spouse,\\\n",
    "to contact him will eventually work.\\\n",
    "5. The time I spent with my wife is special for us.\\\n",
    "6. We don\\'t have time at home as partners.\\\n",
    "7. We are like two strangers who share the same environment at home rather\\\n",
    "than family. 8. I enjoy our holidays with my wife.\\\n",
    "9. I enjoy traveling with my wife.\\\n",
    "10. Most of our goals are common to my spouse.\\\n",
    "11. I think that one day in the future, when I look back,\\\n",
    "I see that my spouse and I have been in harmony with each other.\\\n",
    "12. My spouse and I have similar values in terms of personal freedom.\\\n",
    "13. My spouse and I have similar sense of entertainment.\\\n",
    "14. Most of our goals for people (children, friends, etc.) are the same.\\\n",
    "15. Our dreams with my spouse are similar and harmonious.\\\n",
    "16. We\\'re compatible with my spouse about what love should be.\\\n",
    "17. We share the same views about being happy in our life with my spouse\\\n",
    "18. My spouse and I have similar ideas about how marriage should be\\\n",
    "19. My spouse and I have similar ideas about how roles should be in marriage\\\n",
    "20. My spouse and I have similar values in trust.\\\n",
    "21. I know exactly what my wife likes.\\\n",
    "22. I know how my spouse wants to be taken care of when she/he sick.\\\n",
    "23. I know my spouse\\'s favorite food.\\\n",
    "24. I can tell you what kind of stress my spouse is facing in her/his life.\\\n",
    "25. I have knowledge of my spouse\\'s inner world.\\\n",
    "26. I know my spouse\\'s basic anxieties.\\\n",
    "27. I know what my spouse\\'s current sources of stress are.\\\n",
    "28. I know my spouse\\'s hopes and wishes.\\\n",
    "29. I know my spouse very well.\\\n",
    "30. I know my spouse\\'s friends and their social relationships.\\\n",
    "31. I feel aggressive when I argue with my spouse.\\\n",
    "32. When discussing with my spouse, I usually use expressions such as \\\n",
    "‘you always’ or ‘you never’ .\\\n",
    "33. I can use negative statements about my spouse\\'s personality \\\n",
    "during our discussions.\\\n",
    "34. I can use offensive expressions during our discussions.\\\n",
    "35. I can insult my spouse during our discussions.\\\n",
    "36. I can be humiliating when we discussions.\\\n",
    "37. My discussion with my spouse is not calm.\\\n",
    "38. I hate my spouse\\'s way of open a subject.\\\n",
    "39. Our discussions often occur suddenly.\\\n",
    "40. We\\'re just starting a discussion before I know what\\'s\\\n",
    "going on.\\\n",
    "41. When I talk to my spouse about something, my calm suddenly breaks.\\\n",
    "42. When I argue with my spouse, ı only go out and I don\\'t say a word.\\\n",
    "43. I mostly stay silent to calm the environment a little bit.\\\n",
    "44. Sometimes I think it\\'s good for me to leave home for a while.\\\n",
    "45. I\\'d rather stay silent than discuss with my spouse.\\\n",
    "46. Even if I\\'m right in the discussion, I stay silent to hurt my spouse.\\\n",
    "47. When I discuss with my spouse, I stay silent because I am afraid of \\\n",
    "not being able to control my anger.\\\n",
    "48. I feel right in our discussions.\\\n",
    "49. I have nothing to do with what I\\'ve been accused of.\\\n",
    "50. I\\'m not actually the one who\\'s guilty about what I'm accused of.\\\n",
    "51. I\\'m not the one who\\'s wrong about problems at home.\\\n",
    "52. I wouldn't hesitate to tell my spouse about her/his inadequacy.\\\n",
    "53. When I discuss, I remind my spouse of her/his inadequacy.\\\n",
    "54. I\\'m not afraid to tell my spouse about her/his incompetence.\""
   ]
  },
  {
   "cell_type": "code",
   "execution_count": 953,
   "metadata": {},
   "outputs": [
    {
     "data": {
      "text/plain": [
       "['',\n",
       " ' If one of us apologizes when our discussion deteriorates,the discussion ends. ',\n",
       " ' I know we can ignore our differences, even if things get hard sometimes. ',\n",
       " ' When we need it, we can take our discussions with my spouse from the beginning and correct it. ',\n",
       " ' When I discuss with my spouse,to contact him will eventually work.',\n",
       " ' The time I spent with my wife is special for us.',\n",
       " \" We don't have time at home as partners.\",\n",
       " ' We are like two strangers who share the same environment at home ratherthan family. ',\n",
       " ' I enjoy our holidays with my wife.',\n",
       " ' I enjoy traveling with my wife.',\n",
       " ' Most of our goals are common to my spouse.',\n",
       " ' I think that one day in the future, when I look back,I see that my spouse and I have been in harmony with each other.',\n",
       " ' My spouse and I have similar values in terms of personal freedom.',\n",
       " ' My spouse and I have similar sense of entertainment.',\n",
       " ' Most of our goals for people (children, friends, etc.) are the same.',\n",
       " ' Our dreams with my spouse are similar and harmonious.',\n",
       " \" We're compatible with my spouse about what love should be.\",\n",
       " ' We share the same views about being happy in our life with my spouse',\n",
       " ' My spouse and I have similar ideas about how marriage should be',\n",
       " ' My spouse and I have similar ideas about how roles should be in marriage',\n",
       " ' My spouse and I have similar values in trust.',\n",
       " ' I know exactly what my wife likes.',\n",
       " ' I know how my spouse wants to be taken care of when she/he sick.',\n",
       " \" I know my spouse's favorite food.\",\n",
       " ' I can tell you what kind of stress my spouse is facing in her/his life.',\n",
       " \" I have knowledge of my spouse's inner world.\",\n",
       " \" I know my spouse's basic anxieties.\",\n",
       " \" I know what my spouse's current sources of stress are.\",\n",
       " \" I know my spouse's hopes and wishes.\",\n",
       " ' I know my spouse very well.',\n",
       " \" I know my spouse's friends and their social relationships.\",\n",
       " ' I feel aggressive when I argue with my spouse.',\n",
       " ' When discussing with my spouse, I usually use expressions such as ‘you always’ or ‘you never’ .',\n",
       " \" I can use negative statements about my spouse's personality during our discussions.\",\n",
       " ' I can use offensive expressions during our discussions.',\n",
       " ' I can insult my spouse during our discussions.',\n",
       " ' I can be humiliating when we discussions.',\n",
       " ' My discussion with my spouse is not calm.',\n",
       " \" I hate my spouse's way of open a subject.\",\n",
       " ' Our discussions often occur suddenly.',\n",
       " \" We're just starting a discussion before I know what'sgoing on.\",\n",
       " ' When I talk to my spouse about something, my calm suddenly breaks.',\n",
       " \" When I argue with my spouse, ı only go out and I don't say a word.\",\n",
       " ' I mostly stay silent to calm the environment a little bit.',\n",
       " \" Sometimes I think it's good for me to leave home for a while.\",\n",
       " \" I'd rather stay silent than discuss with my spouse.\",\n",
       " \" Even if I'm right in the discussion, I stay silent to hurt my spouse.\",\n",
       " ' When I discuss with my spouse, I stay silent because I am afraid of not being able to control my anger.',\n",
       " ' I feel right in our discussions.',\n",
       " \" I have nothing to do with what I've been accused of.\",\n",
       " \" I'm not actually the one who's guilty about what I'm accused of.\",\n",
       " \" I'm not the one who's wrong about problems at home.\",\n",
       " \" I wouldn't hesitate to tell my spouse about her/his inadequacy.\",\n",
       " ' When I discuss, I remind my spouse of her/his inadequacy.',\n",
       " \" I'm not afraid to tell my spouse about her/his incompetence.\"]"
      ]
     },
     "execution_count": 953,
     "metadata": {},
     "output_type": "execute_result"
    }
   ],
   "source": [
    "# split the string by number\n",
    "questions = re.split(r\"[0-9]{1,2}.\", questions)\n",
    "questions"
   ]
  },
  {
   "cell_type": "code",
   "execution_count": 954,
   "metadata": {},
   "outputs": [
    {
     "name": "stdout",
     "output_type": "stream",
     "text": [
      "['I know we can ignore our differences, even if things get hard sometimes.', 'When we need it, we can take our discussions with my spouse from the beginning and correct it.', 'When I discuss with my spouse,to contact him will eventually work.', 'The time I spent with my wife is special for us.']\n",
      "54\n"
     ]
    }
   ],
   "source": [
    "# Trim whitespace and drop empty string\n",
    "questions = [question.strip() for question in questions if question != \"\"]\n",
    "print(questions[1:5])\n",
    "# check the nubmer of questions\n",
    "print(len(questions))"
   ]
  },
  {
   "cell_type": "code",
   "execution_count": 955,
   "metadata": {},
   "outputs": [],
   "source": [
    "# make titles text wrap\n",
    "tw = TextWrapper()\n",
    "# set width to break lines\n",
    "tw.width = 40\n",
    "questions = [\"\\n\".join(tw.wrap(text)) for text in questions ]"
   ]
  },
  {
   "cell_type": "code",
   "execution_count": 956,
   "metadata": {},
   "outputs": [],
   "source": [
    "# make column names lowercase\n",
    "df.columns = map(str.lower, df.columns)"
   ]
  },
  {
   "cell_type": "code",
   "execution_count": 957,
   "metadata": {},
   "outputs": [],
   "source": [
    "# make a dictionary of questions and variable names\n",
    "quetions_list = dict(zip(df.columns, questions))"
   ]
  },
  {
   "cell_type": "code",
   "execution_count": 958,
   "metadata": {},
   "outputs": [
    {
     "data": {
      "text/plain": [
       "[('atr1',\n",
       "  'If one of us apologizes when our\\ndiscussion deteriorates,the discussion\\nends.'),\n",
       " ('atr2',\n",
       "  'I know we can ignore our differences,\\neven if things get hard sometimes.'),\n",
       " ('atr3',\n",
       "  'When we need it, we can take our\\ndiscussions with my spouse from the\\nbeginning and correct it.')]"
      ]
     },
     "execution_count": 958,
     "metadata": {},
     "output_type": "execute_result"
    }
   ],
   "source": [
    "# print first few questions\n",
    "list(islice(quetions_list.items(),3))"
   ]
  },
  {
   "cell_type": "code",
   "execution_count": 959,
   "metadata": {},
   "outputs": [
    {
     "data": {
      "text/plain": [
       "0    86\n",
       "1    84\n",
       "Name: class, dtype: int64"
      ]
     },
     "execution_count": 959,
     "metadata": {},
     "output_type": "execute_result"
    }
   ],
   "source": [
    "# print married and divorced couple frequency\n",
    "df[\"class\"].value_counts()"
   ]
  },
  {
   "cell_type": "code",
   "execution_count": 960,
   "metadata": {},
   "outputs": [],
   "source": [
    "# assign label to class variable\n",
    "df['class'] = df[\"class\"].map({0:\"Married\",  1:\"Divorced\"})"
   ]
  },
  {
   "cell_type": "markdown",
   "metadata": {},
   "source": [
    "Now we'll recode the values of the variables 0-4 scale to -2 to 2 to make the scale bipolar."
   ]
  },
  {
   "cell_type": "code",
   "execution_count": 961,
   "metadata": {},
   "outputs": [],
   "source": [
    "# recode all the feature values\n",
    "df_new = df.drop(['class'],axis = 1).apply(lambda x: x.map({0:-2,1:-1,2:0,3:1,4:2}))"
   ]
  },
  {
   "cell_type": "code",
   "execution_count": 962,
   "metadata": {},
   "outputs": [],
   "source": [
    "# add class\n",
    "df_new['class'] = df['class']"
   ]
  },
  {
   "cell_type": "code",
   "execution_count": 963,
   "metadata": {
    "scrolled": true
   },
   "outputs": [
    {
     "name": "stdout",
     "output_type": "stream",
     "text": [
      "Married     50.59\n",
      "Divorced    49.41\n",
      "Name: class, dtype: float64\n"
     ]
    },
    {
     "data": {
      "image/png": "[encoded data removed]",
      "text/plain": [
       "<Figure size 432x288 with 1 Axes>"
      ]
     },
     "metadata": {
      "needs_background": "light"
     },
     "output_type": "display_data"
    }
   ],
   "source": [
    "percent = df[\"class\"].value_counts()/df[\"class\"].count()*100\n",
    "percent = np.round(percent,2)\n",
    "print(percent)\n",
    "# make barplot of married vs divorced\n",
    "percent.plot(kind='bar')\n",
    "plt.title(\"Couples Marrital Status\")\n",
    "plt.xticks(rotation = 0)\n",
    "plt.show()"
   ]
  },
  {
   "cell_type": "markdown",
   "metadata": {},
   "source": [
    "From the above we can see that the data set is balanced and there are 50.58% Married and 49.41% divorced couples in the data."
   ]
  },
  {
   "cell_type": "markdown",
   "metadata": {},
   "source": [
    "# Analysis, Modeling, Visualization <a class=\"anchor\" id=\"analysis\"></a>\n",
    "\n"
   ]
  },
  {
   "cell_type": "markdown",
   "metadata": {},
   "source": [
    "## Question 1 <a class=\"anchor\" id=\"q1\"></a>\n",
    "1. Are there significant difference between Happily Married and Divorced couples?"
   ]
  },
  {
   "cell_type": "code",
   "execution_count": 964,
   "metadata": {},
   "outputs": [],
   "source": [
    "# calculate average value of the questions for both category of couplse\n",
    "df_mean = df_new.groupby(['class']).mean()\n"
   ]
  },
  {
   "cell_type": "code",
   "execution_count": 965,
   "metadata": {},
   "outputs": [
    {
     "data": {
      "text/html": [
       "<div>\n",
       "<style scoped>\n",
       "    .dataframe tbody tr th:only-of-type {\n",
       "        vertical-align: middle;\n",
       "    }\n",
       "\n",
       "    .dataframe tbody tr th {\n",
       "        vertical-align: top;\n",
       "    }\n",
       "\n",
       "    .dataframe thead th {\n",
       "        text-align: right;\n",
       "    }\n",
       "</style>\n",
       "<table border=\"1\" class=\"dataframe\">\n",
       "  <thead>\n",
       "    <tr style=\"text-align: right;\">\n",
       "      <th></th>\n",
       "      <th>atr1</th>\n",
       "      <th>atr2</th>\n",
       "      <th>atr3</th>\n",
       "      <th>atr4</th>\n",
       "      <th>atr5</th>\n",
       "      <th>atr6</th>\n",
       "      <th>atr7</th>\n",
       "      <th>atr8</th>\n",
       "      <th>atr9</th>\n",
       "      <th>atr10</th>\n",
       "      <th>...</th>\n",
       "      <th>atr45</th>\n",
       "      <th>atr46</th>\n",
       "      <th>atr47</th>\n",
       "      <th>atr48</th>\n",
       "      <th>atr49</th>\n",
       "      <th>atr50</th>\n",
       "      <th>atr51</th>\n",
       "      <th>atr52</th>\n",
       "      <th>atr53</th>\n",
       "      <th>atr54</th>\n",
       "    </tr>\n",
       "    <tr>\n",
       "      <th>class</th>\n",
       "      <th></th>\n",
       "      <th></th>\n",
       "      <th></th>\n",
       "      <th></th>\n",
       "      <th></th>\n",
       "      <th></th>\n",
       "      <th></th>\n",
       "      <th></th>\n",
       "      <th></th>\n",
       "      <th></th>\n",
       "      <th></th>\n",
       "      <th></th>\n",
       "      <th></th>\n",
       "      <th></th>\n",
       "      <th></th>\n",
       "      <th></th>\n",
       "      <th></th>\n",
       "      <th></th>\n",
       "      <th></th>\n",
       "      <th></th>\n",
       "      <th></th>\n",
       "    </tr>\n",
       "  </thead>\n",
       "  <tbody>\n",
       "    <tr>\n",
       "      <th>Divorced</th>\n",
       "      <td>1.190476</td>\n",
       "      <td>0.869048</td>\n",
       "      <td>0.916667</td>\n",
       "      <td>0.726190</td>\n",
       "      <td>1.011905</td>\n",
       "      <td>-0.869048</td>\n",
       "      <td>-1.011905</td>\n",
       "      <td>0.809524</td>\n",
       "      <td>0.892857</td>\n",
       "      <td>0.773810</td>\n",
       "      <td>...</td>\n",
       "      <td>1.285714</td>\n",
       "      <td>1.166667</td>\n",
       "      <td>1.321429</td>\n",
       "      <td>1.452381</td>\n",
       "      <td>1.511905</td>\n",
       "      <td>1.500000</td>\n",
       "      <td>1.357143</td>\n",
       "      <td>1.488095</td>\n",
       "      <td>1.321429</td>\n",
       "      <td>1.369048</td>\n",
       "    </tr>\n",
       "    <tr>\n",
       "      <th>Married</th>\n",
       "      <td>-1.604651</td>\n",
       "      <td>-1.534884</td>\n",
       "      <td>-1.360465</td>\n",
       "      <td>-1.732558</td>\n",
       "      <td>-1.895349</td>\n",
       "      <td>-1.627907</td>\n",
       "      <td>-1.988372</td>\n",
       "      <td>-1.872093</td>\n",
       "      <td>-1.941860</td>\n",
       "      <td>-1.593023</td>\n",
       "      <td>...</td>\n",
       "      <td>-0.348837</td>\n",
       "      <td>-0.046512</td>\n",
       "      <td>-0.755814</td>\n",
       "      <td>0.046512</td>\n",
       "      <td>-0.720930</td>\n",
       "      <td>-0.616279</td>\n",
       "      <td>-0.383721</td>\n",
       "      <td>-0.430233</td>\n",
       "      <td>-0.813953</td>\n",
       "      <td>-1.313953</td>\n",
       "    </tr>\n",
       "  </tbody>\n",
       "</table>\n",
       "<p>2 rows × 54 columns</p>\n",
       "</div>"
      ],
      "text/plain": [
       "              atr1      atr2      atr3      atr4      atr5      atr6  \\\n",
       "class                                                                  \n",
       "Divorced  1.190476  0.869048  0.916667  0.726190  1.011905 -0.869048   \n",
       "Married  -1.604651 -1.534884 -1.360465 -1.732558 -1.895349 -1.627907   \n",
       "\n",
       "              atr7      atr8      atr9     atr10  ...     atr45     atr46  \\\n",
       "class                                             ...                       \n",
       "Divorced -1.011905  0.809524  0.892857  0.773810  ...  1.285714  1.166667   \n",
       "Married  -1.988372 -1.872093 -1.941860 -1.593023  ... -0.348837 -0.046512   \n",
       "\n",
       "             atr47     atr48     atr49     atr50     atr51     atr52  \\\n",
       "class                                                                  \n",
       "Divorced  1.321429  1.452381  1.511905  1.500000  1.357143  1.488095   \n",
       "Married  -0.755814  0.046512 -0.720930 -0.616279 -0.383721 -0.430233   \n",
       "\n",
       "             atr53     atr54  \n",
       "class                         \n",
       "Divorced  1.321429  1.369048  \n",
       "Married  -0.813953 -1.313953  \n",
       "\n",
       "[2 rows x 54 columns]"
      ]
     },
     "execution_count": 965,
     "metadata": {},
     "output_type": "execute_result"
    }
   ],
   "source": [
    "# print the average score\n",
    "df_mean"
   ]
  },
  {
   "cell_type": "code",
   "execution_count": 966,
   "metadata": {},
   "outputs": [
    {
     "data": {
      "image/png": "[encoded data removed]",
      "text/plain": [
       "<Figure size 1152x2160 with 18 Axes>"
      ]
     },
     "metadata": {
      "needs_background": "light"
     },
     "output_type": "display_data"
    }
   ],
   "source": [
    "# print the average values to see the differences in questions\n",
    "fig, axs = plt.subplots(6, 3, figsize=[16, 30])\n",
    "\n",
    "# make plots of all the variables\n",
    "for num in range(1,19):\n",
    "    plt.subplot(6,3,num)\n",
    "    plt.subplots_adjust(hspace = 0.5)\n",
    "    axs = df_mean[df.columns[num-1]].plot(kind='bar')\n",
    "    \n",
    "    plt.title(quetions_list[df.columns[num-1]])\n",
    "    plt.xticks(rotation = 0)\n",
    "    plt.xlabel(\"\")\n",
    "#     plt.ylabel(\"Disagree\\t\\tNeutral\\t\\t\\t  Agree\".expandtabs())\n",
    "    plt.ylim(-2,2)\n",
    "    plt.axhline(y=0, color='gray', linestyle='-')\n",
    "plt.show()"
   ]
  },
  {
   "cell_type": "code",
   "execution_count": 967,
   "metadata": {
    "scrolled": true
   },
   "outputs": [
    {
     "data": {
      "image/png": "[encoded data removed]",
      "text/plain": [
       "<Figure size 1152x2160 with 18 Axes>"
      ]
     },
     "metadata": {
      "needs_background": "light"
     },
     "output_type": "display_data"
    }
   ],
   "source": [
    "fig, axs = plt.subplots(6, 3,figsize=[16, 30])\n",
    "\n",
    "for num in range(18,36):\n",
    "    plot_location = num%18+1\n",
    "    plt.subplot(6,3,plot_location)\n",
    "    plt.subplots_adjust(hspace = 0.5)\n",
    "\n",
    "    axs = df_mean[df.columns[num]].plot(kind='bar')\n",
    "    plt.title(quetions_list[df.columns[num]])\n",
    "    plt.xticks(rotation = 0)\n",
    "    plt.xlabel(\"\")\n",
    "#     plt.ylabel(\"Disagree\\t\\tNeutral\\t\\t\\t  Agree\".expandtabs())\n",
    "    plt.ylim(-2,2)\n",
    "    plt.axhline(y=0, color='gray', linestyle='-')\n",
    "plt.show()"
   ]
  },
  {
   "cell_type": "code",
   "execution_count": 968,
   "metadata": {},
   "outputs": [
    {
     "data": {
      "image/png": "[encoded data removed]",
      "text/plain": [
       "<Figure size 1152x2160 with 18 Axes>"
      ]
     },
     "metadata": {
      "needs_background": "light"
     },
     "output_type": "display_data"
    }
   ],
   "source": [
    "fig, axs = plt.subplots(6, 3,figsize=[16, 30])\n",
    "\n",
    "for num in range(36,54):\n",
    "    plot_location = num%18+1\n",
    "    plt.subplot(6,3,plot_location)\n",
    "    plt.subplots_adjust(hspace = 0.5)\n",
    "\n",
    "    axs = df_mean[df.columns[num]].plot(kind='bar')\n",
    "    plt.xticks(rotation = 0)\n",
    "    plt.title(quetions_list[df.columns[num]])\n",
    "    plt.xlabel(\"\")\n",
    "#     plt.ylabel(\"Disagree\\t\\tNeutral\\t\\t\\t  Agree\".expandtabs())\n",
    "    plt.ylim(-2,2)\n",
    "    plt.axhline(y=0, color='gray', linestyle='-')\n",
    "plt.show()"
   ]
  },
  {
   "cell_type": "markdown",
   "metadata": {},
   "source": [
    "Among the 54 questions married and divorced both couples on average gave a similar opinion about having time at home for partners, feeling right in their discussions.\n",
    "In all other 52 questions, their average responses were in opposite directions."
   ]
  },
  {
   "cell_type": "code",
   "execution_count": 969,
   "metadata": {},
   "outputs": [
    {
     "data": {
      "image/png": "[encoded data removed]",
      "text/plain": [
       "<Figure size 864x288 with 1 Axes>"
      ]
     },
     "metadata": {
      "needs_background": "light"
     },
     "output_type": "display_data"
    }
   ],
   "source": [
    "plt.rcParams['figure.figsize'] = 12,4\n",
    "df_mean.T.plot()\n",
    "plt.title(\"Difference in Opinion between Divorced and Happiliy Married Couples\")\n",
    "plt.xlabel(\"Attribute\");"
   ]
  },
  {
   "cell_type": "markdown",
   "metadata": {},
   "source": [
    "###  Tests between two groups"
   ]
  },
  {
   "cell_type": "markdown",
   "metadata": {},
   "source": [
    "As the features and class variables are both categorical for all questions asked here we'll now do chi-square tests of independence to see the statistical difference."
   ]
  },
  {
   "cell_type": "markdown",
   "metadata": {},
   "source": [
    "For all the tests the hypothesis will be\n",
    "\n",
    "$Null Hypothesis_{i}$: There is no difference between the divorced and happily married couple for ith question\n",
    "    \n",
    "$Alternative Hypothesis_{i}$: There is a significant difference between the divorced and happily married couple for ith question"
   ]
  },
  {
   "cell_type": "code",
   "execution_count": 970,
   "metadata": {},
   "outputs": [
    {
     "data": {
      "text/plain": [
       "[True,\n",
       " True,\n",
       " True,\n",
       " True,\n",
       " True,\n",
       " True,\n",
       " True,\n",
       " True,\n",
       " True,\n",
       " True,\n",
       " True,\n",
       " True,\n",
       " True,\n",
       " True,\n",
       " True,\n",
       " True,\n",
       " True,\n",
       " True,\n",
       " True,\n",
       " True,\n",
       " True,\n",
       " True,\n",
       " True,\n",
       " True,\n",
       " True,\n",
       " True,\n",
       " True,\n",
       " True,\n",
       " True,\n",
       " True,\n",
       " True,\n",
       " True,\n",
       " True,\n",
       " True,\n",
       " True,\n",
       " True,\n",
       " True,\n",
       " True,\n",
       " True,\n",
       " True,\n",
       " True,\n",
       " True,\n",
       " True,\n",
       " True,\n",
       " True,\n",
       " True,\n",
       " True,\n",
       " True,\n",
       " True,\n",
       " True,\n",
       " True,\n",
       " True,\n",
       " True,\n",
       " True]"
      ]
     },
     "execution_count": 970,
     "metadata": {},
     "output_type": "execute_result"
    }
   ],
   "source": [
    "chi2_results =[]\n",
    "for column in df_new.drop('class', axis = 1).columns:\n",
    "    df_cross_tab = pd.crosstab(df_new[column],df_new['class'])\n",
    "    chi2, p, dof, ex = chi2_contingency(df_cross_tab)\n",
    "    chi2_results.append(p<0.05)\n",
    "#     print(p<0.05)\n",
    "chi2_results"
   ]
  },
  {
   "cell_type": "markdown",
   "metadata": {},
   "source": [
    "At a 5% level of significance since all the p values are less than 0.05 we reject all the hypotheses and conclude that between married and divorced couples there exists a significant difference for all the questions. "
   ]
  },
  {
   "cell_type": "markdown",
   "metadata": {},
   "source": [
    "**Conclusion:** From the above analysis we can say that there exists a significant difference between happily married and divorced couples."
   ]
  },
  {
   "cell_type": "markdown",
   "metadata": {},
   "source": [
    "## Question 2 <a class=\"anchor\" id=\"q2\"></a>\n",
    "2. What are the most agreed and disagreed things between the couplse?"
   ]
  },
  {
   "cell_type": "code",
   "execution_count": 971,
   "metadata": {},
   "outputs": [],
   "source": [
    "# calculate average value between two groups\n",
    "df_mean_orig = df_new.groupby(['class']).mean()"
   ]
  },
  {
   "cell_type": "code",
   "execution_count": 972,
   "metadata": {},
   "outputs": [],
   "source": [
    "# assign column names\n",
    "df_mean_orig.columns = quetions_list.values()"
   ]
  },
  {
   "cell_type": "code",
   "execution_count": 973,
   "metadata": {},
   "outputs": [],
   "source": [
    "# transpose the data\n",
    "df_mean_orig = df_mean_orig.T"
   ]
  },
  {
   "cell_type": "code",
   "execution_count": 974,
   "metadata": {},
   "outputs": [],
   "source": [
    "# calculate difference score in opinion\n",
    "df_mean_orig['difference'] =  df_mean_orig['Divorced'] - df_mean_orig['Married'] "
   ]
  },
  {
   "cell_type": "code",
   "execution_count": 975,
   "metadata": {},
   "outputs": [
    {
     "data": {
      "text/html": [
       "<div>\n",
       "<style scoped>\n",
       "    .dataframe tbody tr th:only-of-type {\n",
       "        vertical-align: middle;\n",
       "    }\n",
       "\n",
       "    .dataframe tbody tr th {\n",
       "        vertical-align: top;\n",
       "    }\n",
       "\n",
       "    .dataframe thead th {\n",
       "        text-align: right;\n",
       "    }\n",
       "</style>\n",
       "<table border=\"1\" class=\"dataframe\">\n",
       "  <thead>\n",
       "    <tr style=\"text-align: right;\">\n",
       "      <th>class</th>\n",
       "      <th>Divorced</th>\n",
       "      <th>Married</th>\n",
       "      <th>difference</th>\n",
       "    </tr>\n",
       "  </thead>\n",
       "  <tbody>\n",
       "    <tr>\n",
       "      <th>We're just starting a discussion before\\nI know what'sgoing on.</th>\n",
       "      <td>1.571429</td>\n",
       "      <td>-1.790698</td>\n",
       "      <td>3.362126</td>\n",
       "    </tr>\n",
       "    <tr>\n",
       "      <th>I can be humiliating when we\\ndiscussions.</th>\n",
       "      <td>1.214286</td>\n",
       "      <td>-1.965116</td>\n",
       "      <td>3.179402</td>\n",
       "    </tr>\n",
       "    <tr>\n",
       "      <th>I can insult my spouse during our\\ndiscussions.</th>\n",
       "      <td>1.273810</td>\n",
       "      <td>-1.895349</td>\n",
       "      <td>3.169158</td>\n",
       "    </tr>\n",
       "    <tr>\n",
       "      <th>Our discussions often occur suddenly.</th>\n",
       "      <td>1.642857</td>\n",
       "      <td>-1.430233</td>\n",
       "      <td>3.073090</td>\n",
       "    </tr>\n",
       "    <tr>\n",
       "      <th>When I talk to my spouse about\\nsomething, my calm suddenly breaks.</th>\n",
       "      <td>1.547619</td>\n",
       "      <td>-1.523256</td>\n",
       "      <td>3.070875</td>\n",
       "    </tr>\n",
       "    <tr>\n",
       "      <th>I can use negative statements about my\\nspouse's personality during our\\ndiscussions.</th>\n",
       "      <td>1.357143</td>\n",
       "      <td>-1.709302</td>\n",
       "      <td>3.066445</td>\n",
       "    </tr>\n",
       "    <tr>\n",
       "      <th>I hate my spouse's way of open a\\nsubject.</th>\n",
       "      <td>1.404762</td>\n",
       "      <td>-1.651163</td>\n",
       "      <td>3.055925</td>\n",
       "    </tr>\n",
       "    <tr>\n",
       "      <th>My spouse and I have similar ideas about\\nhow roles should be in marriage</th>\n",
       "      <td>1.178571</td>\n",
       "      <td>-1.860465</td>\n",
       "      <td>3.039037</td>\n",
       "    </tr>\n",
       "    <tr>\n",
       "      <th>I think that one day in the future, when\\nI look back,I see that my spouse and I\\nhave been in harmony with each other.</th>\n",
       "      <td>1.214286</td>\n",
       "      <td>-1.802326</td>\n",
       "      <td>3.016611</td>\n",
       "    </tr>\n",
       "    <tr>\n",
       "      <th>We share the same views about being\\nhappy in our life with my spouse</th>\n",
       "      <td>1.166667</td>\n",
       "      <td>-1.825581</td>\n",
       "      <td>2.992248</td>\n",
       "    </tr>\n",
       "    <tr>\n",
       "      <th>My discussion with my spouse is not\\ncalm.</th>\n",
       "      <td>1.583333</td>\n",
       "      <td>-1.372093</td>\n",
       "      <td>2.955426</td>\n",
       "    </tr>\n",
       "    <tr>\n",
       "      <th>The time I spent with my wife is special\\nfor us.</th>\n",
       "      <td>1.011905</td>\n",
       "      <td>-1.895349</td>\n",
       "      <td>2.907254</td>\n",
       "    </tr>\n",
       "    <tr>\n",
       "      <th>My spouse and I have similar ideas about\\nhow marriage should be</th>\n",
       "      <td>0.976190</td>\n",
       "      <td>-1.906977</td>\n",
       "      <td>2.883167</td>\n",
       "    </tr>\n",
       "    <tr>\n",
       "      <th>Sometimes I think it's good for me to\\nleave home for a while.</th>\n",
       "      <td>1.380952</td>\n",
       "      <td>-1.465116</td>\n",
       "      <td>2.846069</td>\n",
       "    </tr>\n",
       "    <tr>\n",
       "      <th>I know my spouse very well.</th>\n",
       "      <td>0.928571</td>\n",
       "      <td>-1.906977</td>\n",
       "      <td>2.835548</td>\n",
       "    </tr>\n",
       "    <tr>\n",
       "      <th>I enjoy traveling with my wife.</th>\n",
       "      <td>0.892857</td>\n",
       "      <td>-1.941860</td>\n",
       "      <td>2.834718</td>\n",
       "    </tr>\n",
       "    <tr>\n",
       "      <th>My spouse and I have similar values in\\ntrust.</th>\n",
       "      <td>0.880952</td>\n",
       "      <td>-1.930233</td>\n",
       "      <td>2.811185</td>\n",
       "    </tr>\n",
       "    <tr>\n",
       "      <th>If one of us apologizes when our\\ndiscussion deteriorates,the discussion\\nends.</th>\n",
       "      <td>1.190476</td>\n",
       "      <td>-1.604651</td>\n",
       "      <td>2.795127</td>\n",
       "    </tr>\n",
       "    <tr>\n",
       "      <th>I can use offensive expressions during\\nour discussions.</th>\n",
       "      <td>1.273810</td>\n",
       "      <td>-1.441860</td>\n",
       "      <td>2.715670</td>\n",
       "    </tr>\n",
       "    <tr>\n",
       "      <th>Our dreams with my spouse are similar\\nand harmonious.</th>\n",
       "      <td>0.940476</td>\n",
       "      <td>-1.767442</td>\n",
       "      <td>2.707918</td>\n",
       "    </tr>\n",
       "    <tr>\n",
       "      <th>I know my spouse's favorite food.</th>\n",
       "      <td>0.773810</td>\n",
       "      <td>-1.918605</td>\n",
       "      <td>2.692414</td>\n",
       "    </tr>\n",
       "    <tr>\n",
       "      <th>When discussing with my spouse, I\\nusually use expressions such as ‘you\\nalways’ or ‘you never’ .</th>\n",
       "      <td>1.416667</td>\n",
       "      <td>-1.267442</td>\n",
       "      <td>2.684109</td>\n",
       "    </tr>\n",
       "    <tr>\n",
       "      <th>I'm not afraid to tell my spouse about\\nher/his incompetence.</th>\n",
       "      <td>1.369048</td>\n",
       "      <td>-1.313953</td>\n",
       "      <td>2.683001</td>\n",
       "    </tr>\n",
       "    <tr>\n",
       "      <th>I enjoy our holidays with my wife.</th>\n",
       "      <td>0.809524</td>\n",
       "      <td>-1.872093</td>\n",
       "      <td>2.681617</td>\n",
       "    </tr>\n",
       "    <tr>\n",
       "      <th>We're compatible with my spouse about\\nwhat love should be.</th>\n",
       "      <td>0.821429</td>\n",
       "      <td>-1.837209</td>\n",
       "      <td>2.658638</td>\n",
       "    </tr>\n",
       "    <tr>\n",
       "      <th>I know my spouse's friends and their\\nsocial relationships.</th>\n",
       "      <td>0.821429</td>\n",
       "      <td>-1.802326</td>\n",
       "      <td>2.623754</td>\n",
       "    </tr>\n",
       "    <tr>\n",
       "      <th>I have knowledge of my spouse's inner\\nworld.</th>\n",
       "      <td>0.952381</td>\n",
       "      <td>-1.662791</td>\n",
       "      <td>2.615172</td>\n",
       "    </tr>\n",
       "    <tr>\n",
       "      <th>I know my spouse's basic anxieties.</th>\n",
       "      <td>0.809524</td>\n",
       "      <td>-1.802326</td>\n",
       "      <td>2.611849</td>\n",
       "    </tr>\n",
       "    <tr>\n",
       "      <th>I feel aggressive when I argue with my\\nspouse.</th>\n",
       "      <td>1.440476</td>\n",
       "      <td>-1.162791</td>\n",
       "      <td>2.603267</td>\n",
       "    </tr>\n",
       "    <tr>\n",
       "      <th>Most of our goals for people (children,\\nfriends, etc.) are the same.</th>\n",
       "      <td>0.880952</td>\n",
       "      <td>-1.709302</td>\n",
       "      <td>2.590255</td>\n",
       "    </tr>\n",
       "    <tr>\n",
       "      <th>My spouse and I have similar values in\\nterms of personal freedom.</th>\n",
       "      <td>0.940476</td>\n",
       "      <td>-1.604651</td>\n",
       "      <td>2.545127</td>\n",
       "    </tr>\n",
       "    <tr>\n",
       "      <th>I know what my spouse's current sources\\nof stress are.</th>\n",
       "      <td>0.678571</td>\n",
       "      <td>-1.848837</td>\n",
       "      <td>2.527409</td>\n",
       "    </tr>\n",
       "    <tr>\n",
       "      <th>I can tell you what kind of stress my\\nspouse is facing in her/his life.</th>\n",
       "      <td>0.785714</td>\n",
       "      <td>-1.732558</td>\n",
       "      <td>2.518272</td>\n",
       "    </tr>\n",
       "    <tr>\n",
       "      <th>I know exactly what my wife likes.</th>\n",
       "      <td>0.654762</td>\n",
       "      <td>-1.848837</td>\n",
       "      <td>2.503599</td>\n",
       "    </tr>\n",
       "    <tr>\n",
       "      <th>My spouse and I have similar sense of\\nentertainment.</th>\n",
       "      <td>1.095238</td>\n",
       "      <td>-1.395349</td>\n",
       "      <td>2.490587</td>\n",
       "    </tr>\n",
       "    <tr>\n",
       "      <th>I know my spouse's hopes and wishes.</th>\n",
       "      <td>0.559524</td>\n",
       "      <td>-1.918605</td>\n",
       "      <td>2.478128</td>\n",
       "    </tr>\n",
       "    <tr>\n",
       "      <th>When I discuss with my spouse,to contact\\nhim will eventually work.</th>\n",
       "      <td>0.726190</td>\n",
       "      <td>-1.732558</td>\n",
       "      <td>2.458749</td>\n",
       "    </tr>\n",
       "    <tr>\n",
       "      <th>I know we can ignore our differences,\\neven if things get hard sometimes.</th>\n",
       "      <td>0.869048</td>\n",
       "      <td>-1.534884</td>\n",
       "      <td>2.403931</td>\n",
       "    </tr>\n",
       "    <tr>\n",
       "      <th>I know how my spouse wants to be taken\\ncare of when she/he sick.</th>\n",
       "      <td>0.452381</td>\n",
       "      <td>-1.930233</td>\n",
       "      <td>2.382614</td>\n",
       "    </tr>\n",
       "    <tr>\n",
       "      <th>Most of our goals are common to my\\nspouse.</th>\n",
       "      <td>0.773810</td>\n",
       "      <td>-1.593023</td>\n",
       "      <td>2.366833</td>\n",
       "    </tr>\n",
       "    <tr>\n",
       "      <th>When I argue with my spouse, ı only go\\nout and I don't say a word.</th>\n",
       "      <td>1.333333</td>\n",
       "      <td>-0.988372</td>\n",
       "      <td>2.321705</td>\n",
       "    </tr>\n",
       "    <tr>\n",
       "      <th>When we need it, we can take our\\ndiscussions with my spouse from the\\nbeginning and correct it.</th>\n",
       "      <td>0.916667</td>\n",
       "      <td>-1.360465</td>\n",
       "      <td>2.277132</td>\n",
       "    </tr>\n",
       "    <tr>\n",
       "      <th>I have nothing to do with what I've been\\naccused of.</th>\n",
       "      <td>1.511905</td>\n",
       "      <td>-0.720930</td>\n",
       "      <td>2.232835</td>\n",
       "    </tr>\n",
       "    <tr>\n",
       "      <th>When I discuss, I remind my spouse of\\nher/his inadequacy.</th>\n",
       "      <td>1.321429</td>\n",
       "      <td>-0.813953</td>\n",
       "      <td>2.135382</td>\n",
       "    </tr>\n",
       "    <tr>\n",
       "      <th>I'm not actually the one who's guilty\\nabout what I'm accused of.</th>\n",
       "      <td>1.500000</td>\n",
       "      <td>-0.616279</td>\n",
       "      <td>2.116279</td>\n",
       "    </tr>\n",
       "    <tr>\n",
       "      <th>When I discuss with my spouse, I stay\\nsilent because I am afraid of not being\\nable to control my anger.</th>\n",
       "      <td>1.321429</td>\n",
       "      <td>-0.755814</td>\n",
       "      <td>2.077243</td>\n",
       "    </tr>\n",
       "    <tr>\n",
       "      <th>I wouldn't hesitate to tell my spouse\\nabout her/his inadequacy.</th>\n",
       "      <td>1.488095</td>\n",
       "      <td>-0.430233</td>\n",
       "      <td>1.918328</td>\n",
       "    </tr>\n",
       "    <tr>\n",
       "      <th>I'm not the one who's wrong about\\nproblems at home.</th>\n",
       "      <td>1.357143</td>\n",
       "      <td>-0.383721</td>\n",
       "      <td>1.740864</td>\n",
       "    </tr>\n",
       "    <tr>\n",
       "      <th>I'd rather stay silent than discuss with\\nmy spouse.</th>\n",
       "      <td>1.285714</td>\n",
       "      <td>-0.348837</td>\n",
       "      <td>1.634551</td>\n",
       "    </tr>\n",
       "    <tr>\n",
       "      <th>I mostly stay silent to calm the\\nenvironment a little bit.</th>\n",
       "      <td>1.476190</td>\n",
       "      <td>-0.046512</td>\n",
       "      <td>1.522702</td>\n",
       "    </tr>\n",
       "    <tr>\n",
       "      <th>I feel right in our discussions.</th>\n",
       "      <td>1.452381</td>\n",
       "      <td>0.046512</td>\n",
       "      <td>1.405869</td>\n",
       "    </tr>\n",
       "    <tr>\n",
       "      <th>Even if I'm right in the discussion, I\\nstay silent to hurt my spouse.</th>\n",
       "      <td>1.166667</td>\n",
       "      <td>-0.046512</td>\n",
       "      <td>1.213178</td>\n",
       "    </tr>\n",
       "    <tr>\n",
       "      <th>We are like two strangers who share the\\nsame environment at home ratherthan\\nfamily.</th>\n",
       "      <td>-1.011905</td>\n",
       "      <td>-1.988372</td>\n",
       "      <td>0.976467</td>\n",
       "    </tr>\n",
       "    <tr>\n",
       "      <th>We don't have time at home as partners.</th>\n",
       "      <td>-0.869048</td>\n",
       "      <td>-1.627907</td>\n",
       "      <td>0.758859</td>\n",
       "    </tr>\n",
       "  </tbody>\n",
       "</table>\n",
       "</div>"
      ],
      "text/plain": [
       "class                                               Divorced   Married  \\\n",
       "We're just starting a discussion before\\nI know...  1.571429 -1.790698   \n",
       "I can be humiliating when we\\ndiscussions.          1.214286 -1.965116   \n",
       "I can insult my spouse during our\\ndiscussions.     1.273810 -1.895349   \n",
       "Our discussions often occur suddenly.               1.642857 -1.430233   \n",
       "When I talk to my spouse about\\nsomething, my c...  1.547619 -1.523256   \n",
       "I can use negative statements about my\\nspouse'...  1.357143 -1.709302   \n",
       "I hate my spouse's way of open a\\nsubject.          1.404762 -1.651163   \n",
       "My spouse and I have similar ideas about\\nhow r...  1.178571 -1.860465   \n",
       "I think that one day in the future, when\\nI loo...  1.214286 -1.802326   \n",
       "We share the same views about being\\nhappy in o...  1.166667 -1.825581   \n",
       "My discussion with my spouse is not\\ncalm.          1.583333 -1.372093   \n",
       "The time I spent with my wife is special\\nfor us.   1.011905 -1.895349   \n",
       "My spouse and I have similar ideas about\\nhow m...  0.976190 -1.906977   \n",
       "Sometimes I think it's good for me to\\nleave ho...  1.380952 -1.465116   \n",
       "I know my spouse very well.                         0.928571 -1.906977   \n",
       "I enjoy traveling with my wife.                     0.892857 -1.941860   \n",
       "My spouse and I have similar values in\\ntrust.      0.880952 -1.930233   \n",
       "If one of us apologizes when our\\ndiscussion de...  1.190476 -1.604651   \n",
       "I can use offensive expressions during\\nour dis...  1.273810 -1.441860   \n",
       "Our dreams with my spouse are similar\\nand harm...  0.940476 -1.767442   \n",
       "I know my spouse's favorite food.                   0.773810 -1.918605   \n",
       "When discussing with my spouse, I\\nusually use ...  1.416667 -1.267442   \n",
       "I'm not afraid to tell my spouse about\\nher/his...  1.369048 -1.313953   \n",
       "I enjoy our holidays with my wife.                  0.809524 -1.872093   \n",
       "We're compatible with my spouse about\\nwhat lov...  0.821429 -1.837209   \n",
       "I know my spouse's friends and their\\nsocial re...  0.821429 -1.802326   \n",
       "I have knowledge of my spouse's inner\\nworld.       0.952381 -1.662791   \n",
       "I know my spouse's basic anxieties.                 0.809524 -1.802326   \n",
       "I feel aggressive when I argue with my\\nspouse.     1.440476 -1.162791   \n",
       "Most of our goals for people (children,\\nfriend...  0.880952 -1.709302   \n",
       "My spouse and I have similar values in\\nterms o...  0.940476 -1.604651   \n",
       "I know what my spouse's current sources\\nof str...  0.678571 -1.848837   \n",
       "I can tell you what kind of stress my\\nspouse i...  0.785714 -1.732558   \n",
       "I know exactly what my wife likes.                  0.654762 -1.848837   \n",
       "My spouse and I have similar sense of\\nentertai...  1.095238 -1.395349   \n",
       "I know my spouse's hopes and wishes.                0.559524 -1.918605   \n",
       "When I discuss with my spouse,to contact\\nhim w...  0.726190 -1.732558   \n",
       "I know we can ignore our differences,\\neven if ...  0.869048 -1.534884   \n",
       "I know how my spouse wants to be taken\\ncare of...  0.452381 -1.930233   \n",
       "Most of our goals are common to my\\nspouse.         0.773810 -1.593023   \n",
       "When I argue with my spouse, ı only go\\nout and...  1.333333 -0.988372   \n",
       "When we need it, we can take our\\ndiscussions w...  0.916667 -1.360465   \n",
       "I have nothing to do with what I've been\\naccus...  1.511905 -0.720930   \n",
       "When I discuss, I remind my spouse of\\nher/his ...  1.321429 -0.813953   \n",
       "I'm not actually the one who's guilty\\nabout wh...  1.500000 -0.616279   \n",
       "When I discuss with my spouse, I stay\\nsilent b...  1.321429 -0.755814   \n",
       "I wouldn't hesitate to tell my spouse\\nabout he...  1.488095 -0.430233   \n",
       "I'm not the one who's wrong about\\nproblems at ...  1.357143 -0.383721   \n",
       "I'd rather stay silent than discuss with\\nmy sp...  1.285714 -0.348837   \n",
       "I mostly stay silent to calm the\\nenvironment a...  1.476190 -0.046512   \n",
       "I feel right in our discussions.                    1.452381  0.046512   \n",
       "Even if I'm right in the discussion, I\\nstay si...  1.166667 -0.046512   \n",
       "We are like two strangers who share the\\nsame e... -1.011905 -1.988372   \n",
       "We don't have time at home as partners.            -0.869048 -1.627907   \n",
       "\n",
       "class                                               difference  \n",
       "We're just starting a discussion before\\nI know...    3.362126  \n",
       "I can be humiliating when we\\ndiscussions.            3.179402  \n",
       "I can insult my spouse during our\\ndiscussions.       3.169158  \n",
       "Our discussions often occur suddenly.                 3.073090  \n",
       "When I talk to my spouse about\\nsomething, my c...    3.070875  \n",
       "I can use negative statements about my\\nspouse'...    3.066445  \n",
       "I hate my spouse's way of open a\\nsubject.            3.055925  \n",
       "My spouse and I have similar ideas about\\nhow r...    3.039037  \n",
       "I think that one day in the future, when\\nI loo...    3.016611  \n",
       "We share the same views about being\\nhappy in o...    2.992248  \n",
       "My discussion with my spouse is not\\ncalm.            2.955426  \n",
       "The time I spent with my wife is special\\nfor us.     2.907254  \n",
       "My spouse and I have similar ideas about\\nhow m...    2.883167  \n",
       "Sometimes I think it's good for me to\\nleave ho...    2.846069  \n",
       "I know my spouse very well.                           2.835548  \n",
       "I enjoy traveling with my wife.                       2.834718  \n",
       "My spouse and I have similar values in\\ntrust.        2.811185  \n",
       "If one of us apologizes when our\\ndiscussion de...    2.795127  \n",
       "I can use offensive expressions during\\nour dis...    2.715670  \n",
       "Our dreams with my spouse are similar\\nand harm...    2.707918  \n",
       "I know my spouse's favorite food.                     2.692414  \n",
       "When discussing with my spouse, I\\nusually use ...    2.684109  \n",
       "I'm not afraid to tell my spouse about\\nher/his...    2.683001  \n",
       "I enjoy our holidays with my wife.                    2.681617  \n",
       "We're compatible with my spouse about\\nwhat lov...    2.658638  \n",
       "I know my spouse's friends and their\\nsocial re...    2.623754  \n",
       "I have knowledge of my spouse's inner\\nworld.         2.615172  \n",
       "I know my spouse's basic anxieties.                   2.611849  \n",
       "I feel aggressive when I argue with my\\nspouse.       2.603267  \n",
       "Most of our goals for people (children,\\nfriend...    2.590255  \n",
       "My spouse and I have similar values in\\nterms o...    2.545127  \n",
       "I know what my spouse's current sources\\nof str...    2.527409  \n",
       "I can tell you what kind of stress my\\nspouse i...    2.518272  \n",
       "I know exactly what my wife likes.                    2.503599  \n",
       "My spouse and I have similar sense of\\nentertai...    2.490587  \n",
       "I know my spouse's hopes and wishes.                  2.478128  \n",
       "When I discuss with my spouse,to contact\\nhim w...    2.458749  \n",
       "I know we can ignore our differences,\\neven if ...    2.403931  \n",
       "I know how my spouse wants to be taken\\ncare of...    2.382614  \n",
       "Most of our goals are common to my\\nspouse.           2.366833  \n",
       "When I argue with my spouse, ı only go\\nout and...    2.321705  \n",
       "When we need it, we can take our\\ndiscussions w...    2.277132  \n",
       "I have nothing to do with what I've been\\naccus...    2.232835  \n",
       "When I discuss, I remind my spouse of\\nher/his ...    2.135382  \n",
       "I'm not actually the one who's guilty\\nabout wh...    2.116279  \n",
       "When I discuss with my spouse, I stay\\nsilent b...    2.077243  \n",
       "I wouldn't hesitate to tell my spouse\\nabout he...    1.918328  \n",
       "I'm not the one who's wrong about\\nproblems at ...    1.740864  \n",
       "I'd rather stay silent than discuss with\\nmy sp...    1.634551  \n",
       "I mostly stay silent to calm the\\nenvironment a...    1.522702  \n",
       "I feel right in our discussions.                      1.405869  \n",
       "Even if I'm right in the discussion, I\\nstay si...    1.213178  \n",
       "We are like two strangers who share the\\nsame e...    0.976467  \n",
       "We don't have time at home as partners.               0.758859  "
      ]
     },
     "execution_count": 975,
     "metadata": {},
     "output_type": "execute_result"
    }
   ],
   "source": [
    "df_mean_orig.sort_values(['difference'],ascending = False)"
   ]
  },
  {
   "cell_type": "code",
   "execution_count": 976,
   "metadata": {
    "scrolled": true
   },
   "outputs": [
    {
     "data": {
      "image/png": "[encoded data removed]",
      "text/plain": [
       "<Figure size 432x288 with 1 Axes>"
      ]
     },
     "metadata": {
      "needs_background": "light"
     },
     "output_type": "display_data"
    }
   ],
   "source": [
    "plt.rcParams['figure.figsize'] = 6,4\n",
    "agreed_df = df_mean_orig.sort_values(['difference'],ascending=False)[0:5]\n",
    "\n",
    "agreed_df[['Married','Divorced']].plot(kind='bar')\n",
    "agreed_questions = [value for key,value in quetions_list.items() \\\n",
    "                    if key in agreed_df.index]\n",
    "plt.axhline(y=0,color='red')\n",
    "plt.title(\"Top 5 Different Opinion Topics\");"
   ]
  },
  {
   "cell_type": "code",
   "execution_count": 977,
   "metadata": {
    "scrolled": true
   },
   "outputs": [
    {
     "data": {
      "image/png": "[encoded data removed]",
      "text/plain": [
       "<Figure size 432x288 with 1 Axes>"
      ]
     },
     "metadata": {
      "needs_background": "light"
     },
     "output_type": "display_data"
    }
   ],
   "source": [
    "plt.rcParams['figure.figsize'] = 6,4\n",
    "agreed_df = df_mean_orig.sort_values(['difference'],ascending=False)[-5:]\n",
    "\n",
    "agreed_df[['Married','Divorced']].plot(kind='bar')\n",
    "agreed_questions = [value for key,value in quetions_list.items()\\\n",
    "                    if key in agreed_df.index]\n",
    "plt.axhline(y=0,color='red')\n",
    "plt.title(\"Top 5 Similar Opinion Topics\");"
   ]
  },
  {
   "cell_type": "markdown",
   "metadata": {},
   "source": [
    "**Conclusion:**\n",
    "On average most different opinion topics between happily married and divorced couples were \n",
    "    1. Starting a discussion before what's going on. \n",
    "    2. Humiliating during the discussion.\n",
    "    3. Insulting partners during discussions.\n",
    "    4. Discussion occurring suddenly.\n",
    "    5. Breaking calm during the discussion with their wife.\n",
    "In the top, five different opinion questions on average divorced couples mostly agreed and happily married couples disagreed.\n",
    "\n",
    "On average most similar opinion topics between happily married and divorced couples were \n",
    "    1. They both don't have time with partners. \n",
    "    2. Acting like strangers who share the same family and environment.\n",
    "    3. Staying silent during the discussion being right to hurt their spouse.\n",
    "    4. Feeling right in their discussion.\n",
    "    5. Most of the time staying silent to calm the environment.\n",
    "Out of top similar opinion answered on average divorced couples most stayed silent during conversation, felt more right in their discussion, stayed more silent to hurt their spouse. On the other hand, happily married couples most disagreed with the opinion of sharing home and environment like strangers and not having time for partners."
   ]
  },
  {
   "cell_type": "markdown",
   "metadata": {},
   "source": [
    "## Question 3 <a class=\"anchor\" id=\"q3\"></a>\n",
    "3. What couples needs to focus most in order to prevent divorce?"
   ]
  },
  {
   "cell_type": "markdown",
   "metadata": {},
   "source": [
    "Here we'll use recursive feature elimination to select the features that can best predict a divorce. Selected features will be the most important thing couples need to focus in order to prevent divorce."
   ]
  },
  {
   "cell_type": "code",
   "execution_count": 978,
   "metadata": {},
   "outputs": [],
   "source": [
    "# seperate the data in X and Y\n",
    "X =  df_new.drop(\"class\",axis = 1)\n",
    "y = df[\"class\"].map({\"Married\":0, \"Divorced\": 1})\n"
   ]
  },
  {
   "cell_type": "code",
   "execution_count": 979,
   "metadata": {},
   "outputs": [
    {
     "name": "stdout",
     "output_type": "stream",
     "text": [
      "[False False  True False False False False False False False False False\n",
      " False False False False  True  True False False False  True  True  True\n",
      " False  True False  True False False False False False False False False\n",
      " False False False  True False False False False False False False False\n",
      "  True False False False False False]\n",
      "[11 22  1 34 17  4  2 41 43 24 44 45 16 37  8 36  1  1  7 20 21  1  1  1\n",
      " 32  1 19  1 39 12 13 18 42 25  9 35 30 33 15  1 31 26 14  6 40 28 23 27\n",
      "  1 29 38  3 10  5]\n"
     ]
    }
   ],
   "source": [
    "# instantiate model\n",
    "estimator = LinearSVC(random_state=1111)\n",
    "# instaniate RFE\n",
    "selector = RFE(estimator, 10, step=1)\n",
    "# fit RFE\n",
    "selector = selector.fit(X, y)\n",
    "# print the results\n",
    "print(selector.support_)\n",
    "print(selector.ranking_)"
   ]
  },
  {
   "cell_type": "code",
   "execution_count": 980,
   "metadata": {},
   "outputs": [
    {
     "name": "stderr",
     "output_type": "stream",
     "text": [
      "C:\\ProgramData\\Anaconda3\\lib\\site-packages\\pandas\\core\\indexing.py:362: SettingWithCopyWarning: \n",
      "A value is trying to be set on a copy of a slice from a DataFrame.\n",
      "Try using .loc[row_indexer,col_indexer] = value instead\n",
      "\n",
      "See the caveats in the documentation: http://pandas.pydata.org/pandas-docs/stable/indexing.html#indexing-view-versus-copy\n",
      "  self.obj[key] = _infer_fill_value(value)\n",
      "C:\\ProgramData\\Anaconda3\\lib\\site-packages\\pandas\\core\\indexing.py:543: SettingWithCopyWarning: \n",
      "A value is trying to be set on a copy of a slice from a DataFrame.\n",
      "Try using .loc[row_indexer,col_indexer] = value instead\n",
      "\n",
      "See the caveats in the documentation: http://pandas.pydata.org/pandas-docs/stable/indexing.html#indexing-view-versus-copy\n",
      "  self.obj[item] = s\n"
     ]
    }
   ],
   "source": [
    "# select the data for top features\n",
    "df_top = df_new.loc[:,selector.support_]\n",
    "# top questions\n",
    "top_questions =  [value for key,value in quetions_list.items() if key in df_top.columns]\n",
    "\n",
    "# assign questions to column names\n",
    "df_top.columns = top_questions\n",
    "# add the class variable\n",
    "df_top.loc[:,'class'] = df['class']"
   ]
  },
  {
   "cell_type": "code",
   "execution_count": 981,
   "metadata": {},
   "outputs": [
    {
     "data": {
      "text/html": [
       "<div>\n",
       "<style scoped>\n",
       "    .dataframe tbody tr th:only-of-type {\n",
       "        vertical-align: middle;\n",
       "    }\n",
       "\n",
       "    .dataframe tbody tr th {\n",
       "        vertical-align: top;\n",
       "    }\n",
       "\n",
       "    .dataframe thead th {\n",
       "        text-align: right;\n",
       "    }\n",
       "</style>\n",
       "<table border=\"1\" class=\"dataframe\">\n",
       "  <thead>\n",
       "    <tr style=\"text-align: right;\">\n",
       "      <th></th>\n",
       "      <th>When we need it, we can take our\n",
       "discussions with my spouse from the\n",
       "beginning and correct it.</th>\n",
       "      <th>We share the same views about being\n",
       "happy in our life with my spouse</th>\n",
       "      <th>My spouse and I have similar ideas about\n",
       "how marriage should be</th>\n",
       "      <th>I know how my spouse wants to be taken\n",
       "care of when she/he sick.</th>\n",
       "      <th>I know my spouse's favorite food.</th>\n",
       "      <th>I can tell you what kind of stress my\n",
       "spouse is facing in her/his life.</th>\n",
       "      <th>I know my spouse's basic anxieties.</th>\n",
       "      <th>I know my spouse's hopes and wishes.</th>\n",
       "      <th>We're just starting a discussion before\n",
       "I know what'sgoing on.</th>\n",
       "      <th>I have nothing to do with what I've been\n",
       "accused of.</th>\n",
       "      <th>class</th>\n",
       "    </tr>\n",
       "  </thead>\n",
       "  <tbody>\n",
       "    <tr>\n",
       "      <th>0</th>\n",
       "      <td>2</td>\n",
       "      <td>-2</td>\n",
       "      <td>-2</td>\n",
       "      <td>-2</td>\n",
       "      <td>-2</td>\n",
       "      <td>-2</td>\n",
       "      <td>-2</td>\n",
       "      <td>-2</td>\n",
       "      <td>1</td>\n",
       "      <td>1</td>\n",
       "      <td>Divorced</td>\n",
       "    </tr>\n",
       "    <tr>\n",
       "      <th>1</th>\n",
       "      <td>2</td>\n",
       "      <td>2</td>\n",
       "      <td>2</td>\n",
       "      <td>-1</td>\n",
       "      <td>-2</td>\n",
       "      <td>0</td>\n",
       "      <td>-1</td>\n",
       "      <td>-2</td>\n",
       "      <td>2</td>\n",
       "      <td>2</td>\n",
       "      <td>Divorced</td>\n",
       "    </tr>\n",
       "    <tr>\n",
       "      <th>2</th>\n",
       "      <td>0</td>\n",
       "      <td>1</td>\n",
       "      <td>1</td>\n",
       "      <td>-2</td>\n",
       "      <td>-1</td>\n",
       "      <td>0</td>\n",
       "      <td>0</td>\n",
       "      <td>0</td>\n",
       "      <td>1</td>\n",
       "      <td>-1</td>\n",
       "      <td>Divorced</td>\n",
       "    </tr>\n",
       "    <tr>\n",
       "      <th>3</th>\n",
       "      <td>1</td>\n",
       "      <td>1</td>\n",
       "      <td>1</td>\n",
       "      <td>-1</td>\n",
       "      <td>-1</td>\n",
       "      <td>-1</td>\n",
       "      <td>-1</td>\n",
       "      <td>-1</td>\n",
       "      <td>2</td>\n",
       "      <td>1</td>\n",
       "      <td>Divorced</td>\n",
       "    </tr>\n",
       "    <tr>\n",
       "      <th>4</th>\n",
       "      <td>-1</td>\n",
       "      <td>-1</td>\n",
       "      <td>-1</td>\n",
       "      <td>-2</td>\n",
       "      <td>-2</td>\n",
       "      <td>-2</td>\n",
       "      <td>0</td>\n",
       "      <td>0</td>\n",
       "      <td>-1</td>\n",
       "      <td>1</td>\n",
       "      <td>Divorced</td>\n",
       "    </tr>\n",
       "  </tbody>\n",
       "</table>\n",
       "</div>"
      ],
      "text/plain": [
       "   When we need it, we can take our\\ndiscussions with my spouse from the\\nbeginning and correct it.  \\\n",
       "0                                                  2                                                  \n",
       "1                                                  2                                                  \n",
       "2                                                  0                                                  \n",
       "3                                                  1                                                  \n",
       "4                                                 -1                                                  \n",
       "\n",
       "   We share the same views about being\\nhappy in our life with my spouse  \\\n",
       "0                                                 -2                       \n",
       "1                                                  2                       \n",
       "2                                                  1                       \n",
       "3                                                  1                       \n",
       "4                                                 -1                       \n",
       "\n",
       "   My spouse and I have similar ideas about\\nhow marriage should be  \\\n",
       "0                                                 -2                  \n",
       "1                                                  2                  \n",
       "2                                                  1                  \n",
       "3                                                  1                  \n",
       "4                                                 -1                  \n",
       "\n",
       "   I know how my spouse wants to be taken\\ncare of when she/he sick.  \\\n",
       "0                                                 -2                   \n",
       "1                                                 -1                   \n",
       "2                                                 -2                   \n",
       "3                                                 -1                   \n",
       "4                                                 -2                   \n",
       "\n",
       "   I know my spouse's favorite food.  \\\n",
       "0                                 -2   \n",
       "1                                 -2   \n",
       "2                                 -1   \n",
       "3                                 -1   \n",
       "4                                 -2   \n",
       "\n",
       "   I can tell you what kind of stress my\\nspouse is facing in her/his life.  \\\n",
       "0                                                 -2                          \n",
       "1                                                  0                          \n",
       "2                                                  0                          \n",
       "3                                                 -1                          \n",
       "4                                                 -2                          \n",
       "\n",
       "   I know my spouse's basic anxieties.  I know my spouse's hopes and wishes.  \\\n",
       "0                                   -2                                    -2   \n",
       "1                                   -1                                    -2   \n",
       "2                                    0                                     0   \n",
       "3                                   -1                                    -1   \n",
       "4                                    0                                     0   \n",
       "\n",
       "   We're just starting a discussion before\\nI know what'sgoing on.  \\\n",
       "0                                                  1                 \n",
       "1                                                  2                 \n",
       "2                                                  1                 \n",
       "3                                                  2                 \n",
       "4                                                 -1                 \n",
       "\n",
       "   I have nothing to do with what I've been\\naccused of.     class  \n",
       "0                                                  1      Divorced  \n",
       "1                                                  2      Divorced  \n",
       "2                                                 -1      Divorced  \n",
       "3                                                  1      Divorced  \n",
       "4                                                  1      Divorced  "
      ]
     },
     "execution_count": 981,
     "metadata": {},
     "output_type": "execute_result"
    }
   ],
   "source": [
    "df_top.head()"
   ]
  },
  {
   "cell_type": "code",
   "execution_count": 982,
   "metadata": {},
   "outputs": [
    {
     "data": {
      "text/html": [
       "<div>\n",
       "<style scoped>\n",
       "    .dataframe tbody tr th:only-of-type {\n",
       "        vertical-align: middle;\n",
       "    }\n",
       "\n",
       "    .dataframe tbody tr th {\n",
       "        vertical-align: top;\n",
       "    }\n",
       "\n",
       "    .dataframe thead th {\n",
       "        text-align: right;\n",
       "    }\n",
       "</style>\n",
       "<table border=\"1\" class=\"dataframe\">\n",
       "  <thead>\n",
       "    <tr style=\"text-align: right;\">\n",
       "      <th>class</th>\n",
       "      <th>Divorced</th>\n",
       "      <th>Married</th>\n",
       "    </tr>\n",
       "    <tr>\n",
       "      <th>I have nothing to do with what I've been\n",
       "accused of.</th>\n",
       "      <th></th>\n",
       "      <th></th>\n",
       "    </tr>\n",
       "  </thead>\n",
       "  <tbody>\n",
       "    <tr>\n",
       "      <th>-2</th>\n",
       "      <td>0</td>\n",
       "      <td>28</td>\n",
       "    </tr>\n",
       "    <tr>\n",
       "      <th>-1</th>\n",
       "      <td>2</td>\n",
       "      <td>26</td>\n",
       "    </tr>\n",
       "    <tr>\n",
       "      <th>0</th>\n",
       "      <td>9</td>\n",
       "      <td>17</td>\n",
       "    </tr>\n",
       "    <tr>\n",
       "      <th>1</th>\n",
       "      <td>17</td>\n",
       "      <td>10</td>\n",
       "    </tr>\n",
       "    <tr>\n",
       "      <th>2</th>\n",
       "      <td>56</td>\n",
       "      <td>5</td>\n",
       "    </tr>\n",
       "  </tbody>\n",
       "</table>\n",
       "</div>"
      ],
      "text/plain": [
       "class                                               Divorced  Married\n",
       "I have nothing to do with what I've been\\naccus...                   \n",
       "-2                                                         0       28\n",
       "-1                                                         2       26\n",
       " 0                                                         9       17\n",
       " 1                                                        17       10\n",
       " 2                                                        56        5"
      ]
     },
     "execution_count": 982,
     "metadata": {},
     "output_type": "execute_result"
    }
   ],
   "source": [
    "df_plot"
   ]
  },
  {
   "cell_type": "code",
   "execution_count": 983,
   "metadata": {},
   "outputs": [
    {
     "data": {
      "text/plain": [
       "['When we need it, we can take our\\ndiscussions with my spouse from the\\nbeginning and correct it.',\n",
       " 'We share the same views about being\\nhappy in our life with my spouse',\n",
       " 'My spouse and I have similar ideas about\\nhow marriage should be',\n",
       " 'I know how my spouse wants to be taken\\ncare of when she/he sick.',\n",
       " \"I know my spouse's favorite food.\",\n",
       " 'I can tell you what kind of stress my\\nspouse is facing in her/his life.',\n",
       " \"I know my spouse's basic anxieties.\",\n",
       " \"I know my spouse's hopes and wishes.\",\n",
       " \"We're just starting a discussion before\\nI know what'sgoing on.\",\n",
       " \"I have nothing to do with what I've been\\naccused of.\"]"
      ]
     },
     "execution_count": 983,
     "metadata": {},
     "output_type": "execute_result"
    }
   ],
   "source": [
    "top_questions"
   ]
  },
  {
   "cell_type": "code",
   "execution_count": 984,
   "metadata": {},
   "outputs": [],
   "source": [
    "# calculate mean \n",
    "top_mean = df_top.groupby(['class']).mean()\n",
    "# transpose data for plotting\n",
    "top_mean = top_mean.T"
   ]
  },
  {
   "cell_type": "code",
   "execution_count": 985,
   "metadata": {
    "scrolled": true
   },
   "outputs": [
    {
     "data": {
      "image/png": "[encoded data removed]",
      "text/plain": [
       "<Figure size 432x288 with 1 Axes>"
      ]
     },
     "metadata": {
      "needs_background": "light"
     },
     "output_type": "display_data"
    }
   ],
   "source": [
    "top_mean.plot(kind='bar')\n",
    "plt.axhline(y=0,color=\"gray\")\n",
    "plt.axhline(y=1,color=\"gray\")\n",
    "plt.axhline(y=-1,color=\"gray\")\n",
    "plt.title(\"Top Questions to Focus On\")\n",
    "plt.ylim(-2,2)\n",
    "plt.legend(loc='upper left');\n"
   ]
  },
  {
   "cell_type": "markdown",
   "metadata": {},
   "source": [
    "From the above plots and important questions, we can say that they agree with our earlier questions. \n",
    "Divorced couples and happy couples were completely in opposite direction in terms of having similar sense of entertainments, similar ideas about how roles should be in marriage, having similar values in trust, knowing spouses hopes and wishes, knowing spouses friends and social relationships, humiliating during discussions, starting a discussion before what's going wrong. \n",
    "Divorced couples mostly stayed silent to calm the environment, felt right in their discussions while happily married couples stayed almost neutral.\n",
    "In terms of time for partners at home, both agreed that they have time home as partners but divorced couples agree they had less time."
   ]
  },
  {
   "cell_type": "markdown",
   "metadata": {},
   "source": [
    "## Question 4 <a class=\"anchor\" id=\"q4\"></a>\n",
    "4. How accuratley we can predict future divorce?"
   ]
  },
  {
   "cell_type": "markdown",
   "metadata": {},
   "source": [
    "### Modeling <a class=\"anchor\" id=\"modeling\"></a>"
   ]
  },
  {
   "cell_type": "code",
   "execution_count": 986,
   "metadata": {},
   "outputs": [],
   "source": [
    "\n",
    "# train test split\n",
    "X_train, X_test, y_train, y_test = train_test_split(X, y,shuffle=True, \\\n",
    "                                                    test_size=0.30,\\\n",
    "                                                    random_state = 1111 )\n"
   ]
  },
  {
   "cell_type": "code",
   "execution_count": 987,
   "metadata": {},
   "outputs": [],
   "source": [
    "# function to calculatel accuracy\n",
    "def calculate_accuracy(model, X_train, y_train, X_test, y_test):\n",
    "    \"\"\" Calculates model training and test accuracy\n",
    "\n",
    "    Keyword arguments:\n",
    "    model -- fitted sklearn model\n",
    "    X_train -- Training features\n",
    "    y_train -- Training labels\n",
    "    X_test -- Test features\n",
    "    y_test -- Test labels\n",
    "    Return:\n",
    "    A touple of train_accuracy, test_accuracy\n",
    "    \"\"\"\n",
    "    predicted = model.predict(X_train)\n",
    "    train_accuracy = accuracy_score(y_train, predicted)\n",
    "#     train_accuracy = round(train_accuracy, 2)\n",
    "    predicted = model.predict(X_test)\n",
    "    test_accuracy = accuracy_score(y_test, predicted)\n",
    "#     test_accuracy = round(test_accuracy,2)\n",
    "    return (train_accuracy, test_accuracy)"
   ]
  },
  {
   "cell_type": "code",
   "execution_count": 988,
   "metadata": {},
   "outputs": [],
   "source": [
    "# variable to store training,test accuracy\n",
    "train_list = []\n",
    "test_list = []"
   ]
  },
  {
   "cell_type": "markdown",
   "metadata": {},
   "source": [
    "####  logistic regression model"
   ]
  },
  {
   "cell_type": "code",
   "execution_count": 989,
   "metadata": {},
   "outputs": [
    {
     "name": "stdout",
     "output_type": "stream",
     "text": [
      "0.9747899159663865\n",
      "0.9803921568627451\n"
     ]
    }
   ],
   "source": [
    "# logistic regression model\n",
    "clf = LogisticRegressionCV(cv=5, random_state=0).fit(X_train, y_train)\n",
    "train_accuracy, test_accuracy = calculate_accuracy(clf, X_train, y_train, X_test, y_test)\n",
    "print(train_accuracy)\n",
    "print(test_accuracy)\n",
    "# append the accuracy\n",
    "train_list.append(train_accuracy)\n",
    "test_list.append(test_accuracy)"
   ]
  },
  {
   "cell_type": "markdown",
   "metadata": {},
   "source": [
    "#### Random Forest Classifier"
   ]
  },
  {
   "cell_type": "code",
   "execution_count": 990,
   "metadata": {},
   "outputs": [
    {
     "name": "stdout",
     "output_type": "stream",
     "text": [
      "{'n_estimators': [2, 4, 7, 9, 12, 14, 17, 19, 22, 24, 27, 29, 32, 34, 37, 39, 42, 44, 47, 50], 'max_features': ['auto', 'sqrt'], 'max_depth': [10, 11, 12, 13, 14, 15, 16, 17, 18, 20, None], 'min_samples_split': [2, 5, 10], 'min_samples_leaf': [1, 2, 4], 'bootstrap': [True, False]}\n",
      "Fitting 5 folds for each of 100 candidates, totalling 500 fits\n"
     ]
    },
    {
     "name": "stderr",
     "output_type": "stream",
     "text": [
      "[Parallel(n_jobs=-1)]: Using backend LokyBackend with 16 concurrent workers.\n",
      "[Parallel(n_jobs=-1)]: Done   9 tasks      | elapsed:    0.0s\n"
     ]
    },
    {
     "name": "stdout",
     "output_type": "stream",
     "text": [
      "1.0\n",
      "0.9803921568627451\n"
     ]
    },
    {
     "name": "stderr",
     "output_type": "stream",
     "text": [
      "[Parallel(n_jobs=-1)]: Done 500 out of 500 | elapsed:    1.1s finished\n"
     ]
    }
   ],
   "source": [
    "\n",
    "# build randomforest model\n",
    "# Number of trees in random forest\n",
    "n_estimators = [int(x) for x in np.linspace(start = 2, stop = 50, num = 20)]\n",
    "# Number of features to consider at every split\n",
    "max_features = ['auto', 'sqrt']\n",
    "# Maximum number of levels in tree\n",
    "max_depth = [int(x) for x in np.linspace(10, 20, num = 10)]\n",
    "max_depth.append(None)\n",
    "# Minimum number of samples required to split a node\n",
    "min_samples_split = [2, 5, 10]\n",
    "# Minimum number of samples required at each leaf node\n",
    "min_samples_leaf = [1, 2, 4]\n",
    "# Method of selecting samples for training each tree\n",
    "bootstrap = [True, False]\n",
    "# Create the random grid\n",
    "random_grid = {'n_estimators': n_estimators,\n",
    "               'max_features': max_features,\n",
    "               'max_depth': max_depth,\n",
    "               'min_samples_split': min_samples_split,\n",
    "               'min_samples_leaf': min_samples_leaf,\n",
    "               'bootstrap': bootstrap}\n",
    "print(random_grid)\n",
    "\n",
    "# do k fold cross validation\n",
    "\n",
    "rf = RandomForestClassifier(random_state=42)\n",
    "rf_random = RandomizedSearchCV(estimator = rf,return_train_score=True,\\\n",
    "                               refit=True, param_distributions = \\\n",
    "                               random_grid, n_iter = 100, cv =5, \\\n",
    "                               verbose=2, random_state=42, n_jobs = -1)\n",
    "# Fit the random search model\n",
    "rf_random.fit(X_train, y_train)\n",
    "\n",
    "train_accuracy, test_accuracy = calculate_accuracy(rf_random, X_train,\\\n",
    "                                                   y_train, X_test, y_test)\n",
    "print(train_accuracy)\n",
    "print(test_accuracy)\n",
    "# append the accuracy\n",
    "train_list.append(train_accuracy)\n",
    "test_list.append(test_accuracy)"
   ]
  },
  {
   "cell_type": "markdown",
   "metadata": {},
   "source": [
    "#### K Nearest Neighbors"
   ]
  },
  {
   "cell_type": "code",
   "execution_count": 991,
   "metadata": {},
   "outputs": [
    {
     "data": {
      "text/plain": [
       "GridSearchCV(cv=5, error_score=nan,\n",
       "             estimator=KNeighborsClassifier(algorithm='auto', leaf_size=30,\n",
       "                                            metric='minkowski',\n",
       "                                            metric_params=None, n_jobs=None,\n",
       "                                            n_neighbors=5, p=2,\n",
       "                                            weights='uniform'),\n",
       "             iid='deprecated', n_jobs=None,\n",
       "             param_grid={'n_neighbors': array([ 1,  2,  3,  4,  5,  6,  7,  8,  9, 10, 11, 12, 13, 14, 15, 16, 17,\n",
       "       18, 19])},\n",
       "             pre_dispatch='2*n_jobs', refit=True, return_train_score=False,\n",
       "             scoring=None, verbose=0)"
      ]
     },
     "execution_count": 991,
     "metadata": {},
     "output_type": "execute_result"
    }
   ],
   "source": [
    "\n",
    "#create new a knn model\n",
    "knn = KNeighborsClassifier()\n",
    "# create parameter grid\n",
    "param_grid = {\"n_neighbors\": np.arange(1, 20)}\n",
    "# do grid serach\n",
    "knn_cv = GridSearchCV(knn, param_grid, cv=5)\n",
    "\n",
    "# fit model\n",
    "knn_cv.fit(X_train, y_train)"
   ]
  },
  {
   "cell_type": "code",
   "execution_count": 992,
   "metadata": {},
   "outputs": [
    {
     "data": {
      "text/plain": [
       "0.9742753623188406"
      ]
     },
     "execution_count": 992,
     "metadata": {},
     "output_type": "execute_result"
    }
   ],
   "source": [
    "knn_cv.best_score_"
   ]
  },
  {
   "cell_type": "code",
   "execution_count": 993,
   "metadata": {},
   "outputs": [
    {
     "data": {
      "text/plain": [
       "{'n_neighbors': 1}"
      ]
     },
     "execution_count": 993,
     "metadata": {},
     "output_type": "execute_result"
    }
   ],
   "source": [
    "knn_cv.best_params_"
   ]
  },
  {
   "cell_type": "code",
   "execution_count": 994,
   "metadata": {},
   "outputs": [
    {
     "data": {
      "text/plain": [
       "KNeighborsClassifier(algorithm='auto', leaf_size=30, metric='minkowski',\n",
       "                     metric_params=None, n_jobs=None, n_neighbors=1, p=2,\n",
       "                     weights='uniform')"
      ]
     },
     "execution_count": 994,
     "metadata": {},
     "output_type": "execute_result"
    }
   ],
   "source": [
    "knn_cv.best_estimator_"
   ]
  },
  {
   "cell_type": "code",
   "execution_count": 995,
   "metadata": {},
   "outputs": [
    {
     "name": "stdout",
     "output_type": "stream",
     "text": [
      "1.0\n",
      "0.9803921568627451\n"
     ]
    }
   ],
   "source": [
    "train_accuracy, test_accuracy = calculate_accuracy(knn_cv, X_train, y_train, X_test, y_test)\n",
    "print(train_accuracy)\n",
    "print(test_accuracy)\n",
    "# append the accuracy\n",
    "train_list.append(train_accuracy)\n",
    "test_list.append(test_accuracy)"
   ]
  },
  {
   "cell_type": "markdown",
   "metadata": {},
   "source": [
    "#### Automated Classifier using TPOT"
   ]
  },
  {
   "cell_type": "code",
   "execution_count": null,
   "metadata": {},
   "outputs": [
    {
     "data": {
      "application/vnd.jupyter.widget-view+json": {
       "model_id": "4c12741167904146b1e5bf2c9b77eb8b",
       "version_major": 2,
       "version_minor": 0
      },
      "text/plain": [
       "HBox(children=(FloatProgress(value=0.0, description='Optimization Progress', max=210.0, style=ProgressStyle(de…"
      ]
     },
     "metadata": {},
     "output_type": "display_data"
    },
    {
     "name": "stdout",
     "output_type": "stream",
     "text": [
      "\r",
      "Generation 1 - Current best internal CV score: 0.9742753623188406\n"
     ]
    }
   ],
   "source": [
    "# Create the tpot classifier\n",
    "tpot_clf = TPOTClassifier(generations=20, population_size=10,\n",
    "                          offspring_size=10, scoring=\"accuracy\",\n",
    "                          verbosity=2, random_state=42, cv=5)\n",
    "\n",
    "# Fit the classifier to the training data\n",
    "tpot_clf.fit(X_train, y_train)\n",
    "\n",
    "train_accuracy, test_accuracy = calculate_accuracy(tpot_clf,\\\n",
    "                    X_train, y_train, X_test, y_test)\n",
    "print(train_accuracy)\n",
    "print(test_accuracy)\n",
    "# append the accuracy\n",
    "train_list.append(train_accuracy)\n",
    "test_list.append(test_accuracy)"
   ]
  },
  {
   "cell_type": "markdown",
   "metadata": {},
   "source": [
    "# Evaluation <a class=\"anchor\" id=\"evaluation\"></a>"
   ]
  },
  {
   "cell_type": "code",
   "execution_count": null,
   "metadata": {},
   "outputs": [],
   "source": [
    "# build a daaframe of the model accuracies\n",
    "results = pd.DataFrame({\"Machine Learning Algorithm\":\\\n",
    "    [\"Logistic Regression\",\"Random Forest Classifier\",\\\n",
    "     \"K Nearest Classifier\", \"Automated Classifier TPOT\"],\\\n",
    "                        \"Training\":train_list,\"Test\":test_list})"
   ]
  },
  {
   "cell_type": "code",
   "execution_count": null,
   "metadata": {
    "scrolled": true
   },
   "outputs": [],
   "source": [
    "print(results)\n",
    "# set index\n",
    "results.set_index(\"Machine Learning Algorithm\",inplace=True)"
   ]
  },
  {
   "cell_type": "code",
   "execution_count": null,
   "metadata": {},
   "outputs": [],
   "source": [
    "results.plot(style='*-')\n",
    "plt.xticks(rotation=20);"
   ]
  },
  {
   "cell_type": "code",
   "execution_count": null,
   "metadata": {},
   "outputs": [],
   "source": [
    "# plot the model results\n",
    "results.plot(kind='bar')\n",
    "plt.show();"
   ]
  },
  {
   "cell_type": "markdown",
   "metadata": {},
   "source": [
    "Using 70% data as training and 30% data as testing we've fitted here four models to find the best model. \n",
    "In logistic regression, I've used 5 fold cross-validation.\n",
    "Random forest was optimized using a grid search and 5 fold cross-validation to find optimum model parameters.\n",
    "For k equals 1 to 20 K nearest neighbor model was optimized with 5 fold cross-validation to select the best value of k.\n",
    "Among the four fitted models, Random forest Classifier and K nearest neighbor shows overfitting while Automated Classifier TPOT shows underfitting. The logistic regression model seems to perform well and doesn't show overfitting and underfitting. It's also simple and explainable. So I would choose the Logistic Regression model as the best classifier for prediction divorce."
   ]
  },
  {
   "cell_type": "markdown",
   "metadata": {},
   "source": [
    "# Deployment <a class=\"anchor\" id=\"deployment\"></a>"
   ]
  },
  {
   "cell_type": "markdown",
   "metadata": {},
   "source": [
    "## Summary of Analysis"
   ]
  },
  {
   "cell_type": "markdown",
   "metadata": {},
   "source": [
    "Our conclusions are:\n",
    "    1. There exists a significant difference between married and divorced couples in all the topics        of the scale.\n",
    "    2. Divorced and married couple's top 5 disagreed topics were discussion, humiliating during the        discussion, insulting during the discussion, sudden discussion, breaking calm during the     discussion. \n",
    "\n",
    "    On the other hand, the top 5 most similar opinionated topics were having time at home for partners, acting like strangers in terms of sharing environment at home. Married couples agreed on average they have more time at home and act less like strangers about family and environment than divorced couples.\n",
    "    The other two topics where married couples were neutral but divorced couples agreed that they mostly stayed silent and felt right in their discussion.\n",
    "\n",
    "\n",
    "    Based on this we can say that married couples are more careful about their discussion, acts less like strangers in terms of sharing environment at home and gives more time to their partners.  \n",
    "    3. Divorced couples and married couples top 10 deciding questions we can see divorced couples and married couples gave opposite answers. \n",
    "    4. Using 70% data as training and 30% data logistic regression model performs best and it can 98.03% accurately predict divorce between couples. "
   ]
  },
  {
   "cell_type": "markdown",
   "metadata": {},
   "source": [
    "# Reference"
   ]
  },
  {
   "cell_type": "markdown",
   "metadata": {},
   "source": [
    "Yöntem, M.K. and İlhan, T. (2018). Boşanma Göstergeleri Ölçeğinin Geliştirilmesi.\n",
    "[Development of the Divorce Predictors Scale]. Sosyal Polika Çalışmaları Dergisi.\n",
    "41, 339-358."
   ]
  },
  {
   "cell_type": "markdown",
   "metadata": {},
   "source": [
    "Gottman, J. M. and Gottman, J.S. (2012). Çiftler Arasında Köprüyü İnşa Etmek:\n",
    "Gottman Çift Terapisi Eğitimi 1. Düzey Kitabı, [Level 1 Clinical Training. Gottman\n",
    "Method Couples Therapy. Bringing to Couple Chasm.] İstanbul: Psikoloji İstanbul."
   ]
  },
  {
   "cell_type": "markdown",
   "metadata": {},
   "source": [
    "Gottman, J. ve Silver, N. (2014). Aşk Nasıl Sürdürülür. Aşk Laboratuarından Sırlar.\n",
    "(trans. Gül, S.S.) [What Make Love Last. How to Build Trust and Avoid Betrayal.\n",
    "2012]. İstanbul: Varlık Yayınları."
   ]
  }
 ],
 "metadata": {
  "kernelspec": {
   "display_name": "Python 3",
   "language": "python",
   "name": "python3"
  },
  "language_info": {
   "codemirror_mode": {
    "name": "ipython",
    "version": 3
   },
   "file_extension": ".py",
   "mimetype": "text/x-python",
   "name": "python",
   "nbconvert_exporter": "python",
   "pygments_lexer": "ipython3",
   "version": "3.7.3"
  }
 },
 "nbformat": 4,
 "nbformat_minor": 2
}
