{
 "cells": [
  {
   "cell_type": "markdown",
   "metadata": {},
   "source": [
    "# How to live Happy Married Life?\n",
    "Author: Md Rana Mahmud"
   ]
  },
  {
   "cell_type": "markdown",
   "metadata": {},
   "source": [
    "<meta name=\"Md Rana Mahmud\" content=\"John Doe\">"
   ]
  },
  {
   "cell_type": "markdown",
   "metadata": {},
   "source": [
    "# Table of Contents:\n",
    "* [Business Understanding](#business)\n",
    "* [Data Understanding](#data)\n",
    "* [Data Preparation](#data-preperation)\n",
    "* [Modeling](#modeling)\n",
    "* [Evaluation](#evaluation)\n",
    "* [Deployment](#deployment)\n",
    "* [Analysis, Modeling, Visualization](#analysis)\n",
    "    1. [Is there a significant difference between Happily Married and Divorced couples?](#q1)\n",
    "    2. [What are the most agreed and disagreed things between the couples?](#q2)\n",
    "    3. [What couples need to focus most to prevent divorce?](#q3)\n",
    "    4. [How accurately we can predict a future divorce?](#q4)"
   ]
  },
  {
   "cell_type": "code",
   "execution_count": 1,
   "metadata": {},
   "outputs": [],
   "source": [
    "# load the necessary libraries\n",
    "import pandas as pd\n",
    "import numpy as np\n",
    "import matplotlib.pyplot as plt\n",
    "import re "
   ]
  },
  {
   "cell_type": "code",
   "execution_count": 2,
   "metadata": {},
   "outputs": [],
   "source": [
    "from itertools import islice\n",
    "from textwrap import TextWrapper\n",
    "# library to to independent sample t test "
   ]
  },
  {
   "cell_type": "code",
   "execution_count": 3,
   "metadata": {},
   "outputs": [],
   "source": [
    "from scipy.stats import chi2_contingency\n",
    "from sklearn.model_selection import train_test_split\n",
    "from sklearn.model_selection import RandomizedSearchCV\n",
    "from sklearn.metrics import precision_score,accuracy_score"
   ]
  },
  {
   "cell_type": "code",
   "execution_count": 4,
   "metadata": {},
   "outputs": [],
   "source": [
    "from sklearn.ensemble import RandomForestClassifier\n",
    "from sklearn.linear_model import LogisticRegressionCV,LogisticRegression\n",
    "from sklearn.model_selection import cross_val_score"
   ]
  },
  {
   "cell_type": "code",
   "execution_count": 5,
   "metadata": {},
   "outputs": [],
   "source": [
    "from sklearn.neighbors import KNeighborsClassifier\n",
    "from sklearn.model_selection import GridSearchCV"
   ]
  },
  {
   "cell_type": "code",
   "execution_count": 6,
   "metadata": {},
   "outputs": [],
   "source": [
    "from tpot import TPOTClassifier"
   ]
  },
  {
   "cell_type": "code",
   "execution_count": 7,
   "metadata": {},
   "outputs": [],
   "source": [
    "from sklearn.feature_selection import RFE"
   ]
  },
  {
   "cell_type": "code",
   "execution_count": null,
   "metadata": {},
   "outputs": [],
   "source": [
    "from xgboost import XGBClassifier"
   ]
  },
  {
   "cell_type": "code",
   "execution_count": null,
   "metadata": {},
   "outputs": [],
   "source": [
    "from sklearn.svm import LinearSVC"
   ]
  },
  {
   "cell_type": "code",
   "execution_count": null,
   "metadata": {},
   "outputs": [],
   "source": [
    "%matplotlib inline"
   ]
  },
  {
   "cell_type": "markdown",
   "metadata": {},
   "source": [
    "# Business Understanding <a class=\"anchor\" id=\"business\"></a>"
   ]
  },
  {
   "cell_type": "markdown",
   "metadata": {},
   "source": [
    "Problem Overview"
   ]
  },
  {
   "cell_type": "markdown",
   "metadata": {},
   "source": [
    "Yöntem and İlhan (2017, 2018)  developed the Divorce Predictors Scale based on  Gottman\n",
    "couples therapy (Gottman, 2014; Gottman and Gottman, 2012). Using this scale they've done divorce prediction in their research paper.\n",
    "Gottman couples therapy explains the causes of divorce based on empirical research. In this analysis, we'll try to gain some insight between happily married and divorced couples based on the following questions. Yöntem and İlhan (2017, 2018) collected the data from 7 regions of Turkey. In this data out of 170 couples 84 (49.41%) were divorced and 86 (50.59%) were\n",
    "married couples.\n",
    "\n",
    "In this project I was interested in using Divorce Predictors data set to find out the answer to the following questions:\n",
    "    1. Is there a significant difference between Happily Married and Divorced couples?\n",
    "    2. What are the most agreed and disagreed things between the couples?\n",
    "    3. What couples need to focus most to prevent divorce?\n",
    "    4. How accurately we can predict a future divorce?"
   ]
  },
  {
   "cell_type": "markdown",
   "metadata": {},
   "source": [
    "# Data"
   ]
  },
  {
   "cell_type": "markdown",
   "metadata": {},
   "source": [
    "## Data Understanding <a class=\"anchor\" id=\"data\"></a>"
   ]
  },
  {
   "cell_type": "code",
   "execution_count": null,
   "metadata": {},
   "outputs": [],
   "source": [
    "# load the data\n",
    "df = pd.read_excel(\"divorce.xlsx\")\n",
    "# print first few rows of the data\n",
    "df.head()"
   ]
  },
  {
   "cell_type": "code",
   "execution_count": null,
   "metadata": {},
   "outputs": [],
   "source": [
    "# check data types\n",
    "df.dtypes"
   ]
  },
  {
   "cell_type": "code",
   "execution_count": null,
   "metadata": {},
   "outputs": [],
   "source": [
    "# check percentages of missing values\n",
    "df.isnull().mean()"
   ]
  },
  {
   "cell_type": "markdown",
   "metadata": {},
   "source": [
    "There are no missing values in the data and all the data are numeric and in integer format."
   ]
  },
  {
   "cell_type": "markdown",
   "metadata": {},
   "source": [
    "### check shape of data"
   ]
  },
  {
   "cell_type": "code",
   "execution_count": null,
   "metadata": {},
   "outputs": [],
   "source": [
    "# print shape of the data\n",
    "print(df.shape)"
   ]
  },
  {
   "cell_type": "code",
   "execution_count": null,
   "metadata": {
    "scrolled": true
   },
   "outputs": [],
   "source": [
    "# check value counts of the attributes\n",
    "df.describe()"
   ]
  },
  {
   "cell_type": "code",
   "execution_count": null,
   "metadata": {},
   "outputs": [],
   "source": [
    "df.columns"
   ]
  },
  {
   "cell_type": "markdown",
   "metadata": {},
   "source": [
    "This data 55 variable and 170 observations. Variable Atr1 to Atr54 are questions asked to the couples and Class indicates whether they're divorced or not."
   ]
  },
  {
   "cell_type": "markdown",
   "metadata": {},
   "source": [
    "## Data Preperation <a class=\"anchor\" id=\"data-preperation\"></a>"
   ]
  },
  {
   "cell_type": "code",
   "execution_count": null,
   "metadata": {},
   "outputs": [],
   "source": [
    "# first we'll create a dictionary of the original questions\n",
    "questions = \"1. If one of us apologizes when our discussion deteriorates,\\\n",
    "the discussion ends. 2. I know we can ignore our differences, even if things \\\n",
    "get hard sometimes. 3. When we need it, we can take our discussions with my \\\n",
    "spouse from the beginning and correct it. 4. When I discuss with my spouse,\\\n",
    "to contact him will eventually work.\\\n",
    "5. The time I spent with my wife is special for us.\\\n",
    "6. We don\\'t have time at home as partners.\\\n",
    "7. We are like two strangers who share the same environment at home rather\\\n",
    "than family. 8. I enjoy our holidays with my wife.\\\n",
    "9. I enjoy traveling with my wife.\\\n",
    "10. Most of our goals are common to my spouse.\\\n",
    "11. I think that one day in the future, when I look back,\\\n",
    "I see that my spouse and I have been in harmony with each other.\\\n",
    "12. My spouse and I have similar values in terms of personal freedom.\\\n",
    "13. My spouse and I have similar sense of entertainment.\\\n",
    "14. Most of our goals for people (children, friends, etc.) are the same.\\\n",
    "15. Our dreams with my spouse are similar and harmonious.\\\n",
    "16. We\\'re compatible with my spouse about what love should be.\\\n",
    "17. We share the same views about being happy in our life with my spouse\\\n",
    "18. My spouse and I have similar ideas about how marriage should be\\\n",
    "19. My spouse and I have similar ideas about how roles should be in marriage\\\n",
    "20. My spouse and I have similar values in trust.\\\n",
    "21. I know exactly what my wife likes.\\\n",
    "22. I know how my spouse wants to be taken care of when she/he sick.\\\n",
    "23. I know my spouse\\'s favorite food.\\\n",
    "24. I can tell you what kind of stress my spouse is facing in her/his life.\\\n",
    "25. I have knowledge of my spouse\\'s inner world.\\\n",
    "26. I know my spouse\\'s basic anxieties.\\\n",
    "27. I know what my spouse\\'s current sources of stress are.\\\n",
    "28. I know my spouse\\'s hopes and wishes.\\\n",
    "29. I know my spouse very well.\\\n",
    "30. I know my spouse\\'s friends and their social relationships.\\\n",
    "31. I feel aggressive when I argue with my spouse.\\\n",
    "32. When discussing with my spouse, I usually use expressions such as \\\n",
    "‘you always’ or ‘you never’ .\\\n",
    "33. I can use negative statements about my spouse\\'s personality \\\n",
    "during our discussions.\\\n",
    "34. I can use offensive expressions during our discussions.\\\n",
    "35. I can insult my spouse during our discussions.\\\n",
    "36. I can be humiliating when we discussions.\\\n",
    "37. My discussion with my spouse is not calm.\\\n",
    "38. I hate my spouse\\'s way of open a subject.\\\n",
    "39. Our discussions often occur suddenly.\\\n",
    "40. We\\'re just starting a discussion before I know what\\'s\\\n",
    "going on.\\\n",
    "41. When I talk to my spouse about something, my calm suddenly breaks.\\\n",
    "42. When I argue with my spouse, ı only go out and I don\\'t say a word.\\\n",
    "43. I mostly stay silent to calm the environment a little bit.\\\n",
    "44. Sometimes I think it\\'s good for me to leave home for a while.\\\n",
    "45. I\\'d rather stay silent than discuss with my spouse.\\\n",
    "46. Even if I\\'m right in the discussion, I stay silent to hurt my spouse.\\\n",
    "47. When I discuss with my spouse, I stay silent because I am afraid of \\\n",
    "not being able to control my anger.\\\n",
    "48. I feel right in our discussions.\\\n",
    "49. I have nothing to do with what I\\'ve been accused of.\\\n",
    "50. I\\'m not actually the one who\\'s guilty about what I'm accused of.\\\n",
    "51. I\\'m not the one who\\'s wrong about problems at home.\\\n",
    "52. I wouldn't hesitate to tell my spouse about her/his inadequacy.\\\n",
    "53. When I discuss, I remind my spouse of her/his inadequacy.\\\n",
    "54. I\\'m not afraid to tell my spouse about her/his incompetence.\""
   ]
  },
  {
   "cell_type": "code",
   "execution_count": null,
   "metadata": {},
   "outputs": [],
   "source": [
    "# split the string by number\n",
    "questions = re.split(r\"[0-9]{1,2}.\", questions)\n",
    "questions"
   ]
  },
  {
   "cell_type": "code",
   "execution_count": null,
   "metadata": {},
   "outputs": [],
   "source": [
    "# Trim whitespace and drop empty string\n",
    "questions = [question.strip() for question in questions if question != \"\"]\n",
    "print(questions[1:5])\n",
    "# check the nubmer of questions\n",
    "print(len(questions))"
   ]
  },
  {
   "cell_type": "code",
   "execution_count": null,
   "metadata": {},
   "outputs": [],
   "source": [
    "# make titles text wrap\n",
    "tw = TextWrapper()\n",
    "# set width to break lines\n",
    "tw.width = 40\n",
    "questions = [\"\\n\".join(tw.wrap(text)) for text in questions ]"
   ]
  },
  {
   "cell_type": "code",
   "execution_count": null,
   "metadata": {},
   "outputs": [],
   "source": [
    "# make column names lowercase\n",
    "df.columns = map(str.lower, df.columns)"
   ]
  },
  {
   "cell_type": "code",
   "execution_count": null,
   "metadata": {},
   "outputs": [],
   "source": [
    "# make a dictionary of questions and variable names\n",
    "quetions_list = dict(zip(df.columns, questions))"
   ]
  },
  {
   "cell_type": "code",
   "execution_count": null,
   "metadata": {},
   "outputs": [],
   "source": [
    "# print first few questions\n",
    "list(islice(quetions_list.items(),3))"
   ]
  },
  {
   "cell_type": "code",
   "execution_count": null,
   "metadata": {},
   "outputs": [],
   "source": [
    "# print married and divorced couple frequency\n",
    "df[\"class\"].value_counts()"
   ]
  },
  {
   "cell_type": "code",
   "execution_count": null,
   "metadata": {},
   "outputs": [],
   "source": [
    "# assign label to class variable\n",
    "df['class'] = df[\"class\"].map({0:\"Married\",  1:\"Divorced\"})"
   ]
  },
  {
   "cell_type": "markdown",
   "metadata": {},
   "source": [
    "Now we'll recode the values of the variables 0-4 scale to -2 to 2 to make the scale bipolar."
   ]
  },
  {
   "cell_type": "code",
   "execution_count": null,
   "metadata": {},
   "outputs": [],
   "source": [
    "# recode all the feature values\n",
    "df_new = df.drop(['class'],axis = 1).apply(lambda x: x.map({0:-2,1:-1,2:0,3:1,4:2}))"
   ]
  },
  {
   "cell_type": "code",
   "execution_count": null,
   "metadata": {},
   "outputs": [],
   "source": [
    "# add class\n",
    "df_new['class'] = df['class']"
   ]
  },
  {
   "cell_type": "code",
   "execution_count": null,
   "metadata": {
    "scrolled": true
   },
   "outputs": [],
   "source": [
    "percent = df[\"class\"].value_counts()/df[\"class\"].count()*100\n",
    "percent = np.round(percent,2)\n",
    "print(percent)\n",
    "# make barplot of married vs divorced\n",
    "percent.plot(kind='bar')\n",
    "plt.title(\"Couples Marrital Status\")\n",
    "plt.xticks(rotation = 0)\n",
    "plt.show()"
   ]
  },
  {
   "cell_type": "markdown",
   "metadata": {},
   "source": [
    "From the above we can see that the data set is balanced and there are 50.58% Married and 49.41% divorced couples in the data."
   ]
  },
  {
   "cell_type": "markdown",
   "metadata": {},
   "source": [
    "# Analysis, Modeling, Visualization <a class=\"anchor\" id=\"analysis\"></a>\n",
    "\n"
   ]
  },
  {
   "cell_type": "markdown",
   "metadata": {},
   "source": [
    "## Question 1 <a class=\"anchor\" id=\"q1\"></a>\n",
    "1. Are there significant difference between Happily Married and Divorced couples?"
   ]
  },
  {
   "cell_type": "code",
   "execution_count": null,
   "metadata": {},
   "outputs": [],
   "source": [
    "# calculate average value of the questions for both category of couplse\n",
    "df_mean = df_new.groupby(['class']).mean()\n"
   ]
  },
  {
   "cell_type": "code",
   "execution_count": null,
   "metadata": {},
   "outputs": [],
   "source": [
    "# print the average score\n",
    "df_mean"
   ]
  },
  {
   "cell_type": "code",
   "execution_count": null,
   "metadata": {},
   "outputs": [],
   "source": [
    "# print the average values to see the differences in questions\n",
    "fig, axs = plt.subplots(6, 3, figsize=[16, 30])\n",
    "\n",
    "# make plots of all the variables\n",
    "for num in range(1,19):\n",
    "    plt.subplot(6,3,num)\n",
    "    plt.subplots_adjust(hspace = 0.5)\n",
    "    axs = df_mean[df.columns[num-1]].plot(kind='bar')\n",
    "    \n",
    "    plt.title(quetions_list[df.columns[num-1]])\n",
    "    plt.xticks(rotation = 0)\n",
    "    plt.xlabel(\"\")\n",
    "#     plt.ylabel(\"Disagree\\t\\tNeutral\\t\\t\\t  Agree\".expandtabs())\n",
    "    plt.ylim(-2,2)\n",
    "    plt.axhline(y=0, color='gray', linestyle='-')\n",
    "plt.show()"
   ]
  },
  {
   "cell_type": "code",
   "execution_count": null,
   "metadata": {
    "scrolled": true
   },
   "outputs": [],
   "source": [
    "fig, axs = plt.subplots(6, 3,figsize=[16, 30])\n",
    "\n",
    "for num in range(18,36):\n",
    "    plot_location = num%18+1\n",
    "    plt.subplot(6,3,plot_location)\n",
    "    plt.subplots_adjust(hspace = 0.5)\n",
    "\n",
    "    axs = df_mean[df.columns[num]].plot(kind='bar')\n",
    "    plt.title(quetions_list[df.columns[num]])\n",
    "    plt.xticks(rotation = 0)\n",
    "    plt.xlabel(\"\")\n",
    "#     plt.ylabel(\"Disagree\\t\\tNeutral\\t\\t\\t  Agree\".expandtabs())\n",
    "    plt.ylim(-2,2)\n",
    "    plt.axhline(y=0, color='gray', linestyle='-')\n",
    "plt.show()"
   ]
  },
  {
   "cell_type": "code",
   "execution_count": null,
   "metadata": {},
   "outputs": [],
   "source": [
    "fig, axs = plt.subplots(6, 3,figsize=[16, 30])\n",
    "\n",
    "for num in range(36,54):\n",
    "    plot_location = num%18+1\n",
    "    plt.subplot(6,3,plot_location)\n",
    "    plt.subplots_adjust(hspace = 0.5)\n",
    "\n",
    "    axs = df_mean[df.columns[num]].plot(kind='bar')\n",
    "    plt.xticks(rotation = 0)\n",
    "    plt.title(quetions_list[df.columns[num]])\n",
    "    plt.xlabel(\"\")\n",
    "#     plt.ylabel(\"Disagree\\t\\tNeutral\\t\\t\\t  Agree\".expandtabs())\n",
    "    plt.ylim(-2,2)\n",
    "    plt.axhline(y=0, color='gray', linestyle='-')\n",
    "plt.show()"
   ]
  },
  {
   "cell_type": "markdown",
   "metadata": {},
   "source": [
    "Among the 54 questions married and divorced both couples on average gave a similar opinion about having time at home for partners, feeling right in their discussions.\n",
    "In all other 52 questions, their average responses were in opposite directions."
   ]
  },
  {
   "cell_type": "code",
   "execution_count": null,
   "metadata": {},
   "outputs": [],
   "source": [
    "plt.rcParams['figure.figsize'] = 12,4\n",
    "df_mean.T.plot()\n",
    "plt.title(\"Difference in Opinion between Divorced and Happiliy Married Couples\")\n",
    "plt.xlabel(\"Attribute\");"
   ]
  },
  {
   "cell_type": "markdown",
   "metadata": {},
   "source": [
    "###  Tests between two groups"
   ]
  },
  {
   "cell_type": "markdown",
   "metadata": {},
   "source": [
    "As the features and class variables are both categorical for all questions asked here we'll now do chi-square tests of independence to see the statistical difference."
   ]
  },
  {
   "cell_type": "markdown",
   "metadata": {},
   "source": [
    "For all the tests the hypothesis will be\n",
    "\n",
    "$Null Hypothesis_{i}$: There is no difference between the divorced and happily married couple for ith question\n",
    "    \n",
    "$Alternative Hypothesis_{i}$: There is a significant difference between the divorced and happily married couple for ith question"
   ]
  },
  {
   "cell_type": "code",
   "execution_count": null,
   "metadata": {},
   "outputs": [],
   "source": [
    "chi2_results =[]\n",
    "for column in df_new.drop('class', axis = 1).columns:\n",
    "    df_cross_tab = pd.crosstab(df_new[column],df_new['class'])\n",
    "    chi2, p, dof, ex = chi2_contingency(df_cross_tab)\n",
    "    chi2_results.append(p<0.05)\n",
    "#     print(p<0.05)\n",
    "chi2_results"
   ]
  },
  {
   "cell_type": "markdown",
   "metadata": {},
   "source": [
    "At a 5% level of significance since all the p values are less than 0.05 we reject all the hypotheses and conclude that between married and divorced couples there exists a significant difference for all the questions. "
   ]
  },
  {
   "cell_type": "markdown",
   "metadata": {},
   "source": [
    "**Conclusion:** From the above analysis we can say that there exists a significant difference between happily married and divorced couples."
   ]
  },
  {
   "cell_type": "markdown",
   "metadata": {},
   "source": [
    "## Question 2 <a class=\"anchor\" id=\"q2\"></a>\n",
    "2. What are the most agreed and disagreed things between the couplse?"
   ]
  },
  {
   "cell_type": "code",
   "execution_count": null,
   "metadata": {},
   "outputs": [],
   "source": [
    "# calculate average value between two groups\n",
    "df_mean_orig = df_new.groupby(['class']).mean()"
   ]
  },
  {
   "cell_type": "code",
   "execution_count": null,
   "metadata": {},
   "outputs": [],
   "source": [
    "# assign column names\n",
    "df_mean_orig.columns = quetions_list.values()"
   ]
  },
  {
   "cell_type": "code",
   "execution_count": null,
   "metadata": {},
   "outputs": [],
   "source": [
    "# transpose the data\n",
    "df_mean_orig = df_mean_orig.T"
   ]
  },
  {
   "cell_type": "code",
   "execution_count": null,
   "metadata": {},
   "outputs": [],
   "source": [
    "# calculate difference score in opinion\n",
    "df_mean_orig['difference'] =  df_mean_orig['Divorced'] - df_mean_orig['Married'] "
   ]
  },
  {
   "cell_type": "code",
   "execution_count": null,
   "metadata": {},
   "outputs": [],
   "source": [
    "df_mean_orig.sort_values(['difference'],ascending = False)"
   ]
  },
  {
   "cell_type": "code",
   "execution_count": null,
   "metadata": {
    "scrolled": true
   },
   "outputs": [],
   "source": [
    "plt.rcParams['figure.figsize'] = 6,4\n",
    "agreed_df = df_mean_orig.sort_values(['difference'],ascending=False)[0:5]\n",
    "\n",
    "agreed_df[['Married','Divorced']].plot(kind='bar')\n",
    "agreed_questions = [value for key,value in quetions_list.items() \\\n",
    "                    if key in agreed_df.index]\n",
    "plt.axhline(y=0,color='red')\n",
    "plt.title(\"Top 5 Different Opinion Topics\");"
   ]
  },
  {
   "cell_type": "code",
   "execution_count": null,
   "metadata": {
    "scrolled": true
   },
   "outputs": [],
   "source": [
    "plt.rcParams['figure.figsize'] = 6,4\n",
    "agreed_df = df_mean_orig.sort_values(['difference'],ascending=False)[-5:]\n",
    "\n",
    "agreed_df[['Married','Divorced']].plot(kind='bar')\n",
    "agreed_questions = [value for key,value in quetions_list.items()\\\n",
    "                    if key in agreed_df.index]\n",
    "plt.axhline(y=0,color='red')\n",
    "plt.title(\"Top 5 Similar Opinion Topics\");"
   ]
  },
  {
   "cell_type": "markdown",
   "metadata": {},
   "source": [
    "**Conclusion:**\n",
    "On average most different opinion topics between happily married and divorced couples were \n",
    "    1. Starting a discussion before what's going on. \n",
    "    2. Humiliating during the discussion.\n",
    "    3. Insulting partners during discussions.\n",
    "    4. Discussion occurring suddenly.\n",
    "    5. Breaking calm during the discussion with their wife.\n",
    "In the top, five different opinion questions on average divorced couples mostly agreed and happily married couples disagreed.\n",
    "\n",
    "On average most similar opinion topics between happily married and divorced couples were \n",
    "    1. They both don't have time with partners. \n",
    "    2. Acting like strangers who share the same family and environment.\n",
    "    3. Staying silent during the discussion being right to hurt their spouse.\n",
    "    4. Feeling right in their discussion.\n",
    "    5. Most of the time staying silent to calm the environment.\n",
    "Out of top similar opinion answered on average divorced couples most stayed silent during conversation, felt more right in their discussion, stayed more silent to hurt their spouse. On the other hand, happily married couples most disagreed with the opinion of sharing home and environment like strangers and not having time for partners."
   ]
  },
  {
   "cell_type": "markdown",
   "metadata": {},
   "source": [
    "## Question 3 <a class=\"anchor\" id=\"q3\"></a>\n",
    "3. What couples needs to focus most in order to prevent divorce?"
   ]
  },
  {
   "cell_type": "markdown",
   "metadata": {},
   "source": [
    "Here we'll use recursive feature elimination to select the features that can best predict a divorce. Selected features will be the most important thing couples need to focus in order to prevent divorce."
   ]
  },
  {
   "cell_type": "code",
   "execution_count": null,
   "metadata": {},
   "outputs": [],
   "source": [
    "# seperate the data in X and Y\n",
    "X =  df_new.drop(\"class\",axis = 1)\n",
    "y = df[\"class\"].map({\"Married\":0, \"Divorced\": 1})\n"
   ]
  },
  {
   "cell_type": "code",
   "execution_count": null,
   "metadata": {},
   "outputs": [],
   "source": [
    "# instantiate model\n",
    "estimator = LinearSVC(random_state=1111)\n",
    "# instaniate RFE\n",
    "selector = RFE(estimator, 10, step=1)\n",
    "# fit RFE\n",
    "selector = selector.fit(X, y)\n",
    "# print the results\n",
    "print(selector.support_)\n",
    "print(selector.ranking_)"
   ]
  },
  {
   "cell_type": "code",
   "execution_count": null,
   "metadata": {},
   "outputs": [],
   "source": [
    "# select the data for top features\n",
    "df_top = df_new.loc[:,selector.support_]\n",
    "# top questions\n",
    "top_questions =  [value for key,value in quetions_list.items() if key in df_top.columns]\n",
    "\n",
    "# assign questions to column names\n",
    "df_top.columns = top_questions\n",
    "# add the class variable\n",
    "df_top.loc[:,'class'] = df['class']"
   ]
  },
  {
   "cell_type": "code",
   "execution_count": null,
   "metadata": {},
   "outputs": [],
   "source": [
    "df_top.head()"
   ]
  },
  {
   "cell_type": "code",
   "execution_count": null,
   "metadata": {},
   "outputs": [],
   "source": [
    "df_plot"
   ]
  },
  {
   "cell_type": "code",
   "execution_count": null,
   "metadata": {},
   "outputs": [],
   "source": [
    "top_questions"
   ]
  },
  {
   "cell_type": "code",
   "execution_count": null,
   "metadata": {},
   "outputs": [],
   "source": [
    "# calculate mean \n",
    "top_mean = df_top.groupby(['class']).mean()\n",
    "# transpose data for plotting\n",
    "top_mean = top_mean.T"
   ]
  },
  {
   "cell_type": "code",
   "execution_count": null,
   "metadata": {
    "scrolled": true
   },
   "outputs": [],
   "source": [
    "top_mean.plot(kind='bar')\n",
    "plt.axhline(y=0,color=\"gray\")\n",
    "plt.axhline(y=1,color=\"gray\")\n",
    "plt.axhline(y=-1,color=\"gray\")\n",
    "plt.title(\"Top Questions to Focus On\")\n",
    "plt.ylim(-2,2)\n",
    "plt.legend(loc='upper left');\n"
   ]
  },
  {
   "cell_type": "markdown",
   "metadata": {},
   "source": [
    "From the above plots and important questions, we can say that they agree with our earlier questions. \n",
    "Divorced couples and happy couples were completely in opposite direction in terms of having similar sense of entertainments, similar ideas about how roles should be in marriage, having similar values in trust, knowing spouses hopes and wishes, knowing spouses friends and social relationships, humiliating during discussions, starting a discussion before what's going wrong. \n",
    "Divorced couples mostly stayed silent to calm the environment, felt right in their discussions while happily married couples stayed almost neutral.\n",
    "In terms of time for partners at home, both agreed that they have time home as partners but divorced couples agree they had less time."
   ]
  },
  {
   "cell_type": "markdown",
   "metadata": {},
   "source": [
    "## Question 4 <a class=\"anchor\" id=\"q4\"></a>\n",
    "4. How accuratley we can predict future divorce?"
   ]
  },
  {
   "cell_type": "markdown",
   "metadata": {},
   "source": [
    "### Modeling <a class=\"anchor\" id=\"modeling\"></a>"
   ]
  },
  {
   "cell_type": "code",
   "execution_count": null,
   "metadata": {},
   "outputs": [],
   "source": [
    "\n",
    "# train test split\n",
    "X_train, X_test, y_train, y_test = train_test_split(X, y,shuffle=True, \\\n",
    "                                                    test_size=0.30,\\\n",
    "                                                    random_state = 1111 )\n"
   ]
  },
  {
   "cell_type": "code",
   "execution_count": null,
   "metadata": {},
   "outputs": [],
   "source": [
    "# function to calculatel accuracy\n",
    "def calculate_accuracy(model, X_train, y_train, X_test, y_test):\n",
    "    \"\"\" Calculates model training and test accuracy\n",
    "\n",
    "    Keyword arguments:\n",
    "    model -- fitted sklearn model\n",
    "    X_train -- Training features\n",
    "    y_train -- Training labels\n",
    "    X_test -- Test features\n",
    "    y_test -- Test labels\n",
    "    Return:\n",
    "    A touple of train_accuracy, test_accuracy\n",
    "    \"\"\"\n",
    "    predicted = model.predict(X_train)\n",
    "    train_accuracy = accuracy_score(y_train, predicted)\n",
    "#     train_accuracy = round(train_accuracy, 2)\n",
    "    predicted = model.predict(X_test)\n",
    "    test_accuracy = accuracy_score(y_test, predicted)\n",
    "#     test_accuracy = round(test_accuracy,2)\n",
    "    return (train_accuracy, test_accuracy)"
   ]
  },
  {
   "cell_type": "code",
   "execution_count": null,
   "metadata": {},
   "outputs": [],
   "source": [
    "# variable to store training,test accuracy\n",
    "train_list = []\n",
    "test_list = []"
   ]
  },
  {
   "cell_type": "markdown",
   "metadata": {},
   "source": [
    "####  logistic regression model"
   ]
  },
  {
   "cell_type": "code",
   "execution_count": null,
   "metadata": {},
   "outputs": [],
   "source": [
    "# logistic regression model\n",
    "clf = LogisticRegressionCV(cv=5, random_state=0).fit(X_train, y_train)\n",
    "train_accuracy, test_accuracy = calculate_accuracy(clf, X_train, y_train, X_test, y_test)\n",
    "print(train_accuracy)\n",
    "print(test_accuracy)\n",
    "# append the accuracy\n",
    "train_list.append(train_accuracy)\n",
    "test_list.append(test_accuracy)"
   ]
  },
  {
   "cell_type": "markdown",
   "metadata": {},
   "source": [
    "#### Random Forest Classifier"
   ]
  },
  {
   "cell_type": "code",
   "execution_count": null,
   "metadata": {},
   "outputs": [],
   "source": [
    "\n",
    "# build randomforest model\n",
    "# Number of trees in random forest\n",
    "n_estimators = [int(x) for x in np.linspace(start = 2, stop = 50, num = 20)]\n",
    "# Number of features to consider at every split\n",
    "max_features = ['auto', 'sqrt']\n",
    "# Maximum number of levels in tree\n",
    "max_depth = [int(x) for x in np.linspace(10, 20, num = 10)]\n",
    "max_depth.append(None)\n",
    "# Minimum number of samples required to split a node\n",
    "min_samples_split = [2, 5, 10]\n",
    "# Minimum number of samples required at each leaf node\n",
    "min_samples_leaf = [1, 2, 4]\n",
    "# Method of selecting samples for training each tree\n",
    "bootstrap = [True, False]\n",
    "# Create the random grid\n",
    "random_grid = {'n_estimators': n_estimators,\n",
    "               'max_features': max_features,\n",
    "               'max_depth': max_depth,\n",
    "               'min_samples_split': min_samples_split,\n",
    "               'min_samples_leaf': min_samples_leaf,\n",
    "               'bootstrap': bootstrap}\n",
    "print(random_grid)\n",
    "\n",
    "# do k fold cross validation\n",
    "\n",
    "rf = RandomForestClassifier(random_state=42)\n",
    "rf_random = RandomizedSearchCV(estimator = rf,return_train_score=True,\\\n",
    "                               refit=True, param_distributions = \\\n",
    "                               random_grid, n_iter = 100, cv =5, \\\n",
    "                               verbose=2, random_state=42, n_jobs = -1)\n",
    "# Fit the random search model\n",
    "rf_random.fit(X_train, y_train)\n",
    "\n",
    "train_accuracy, test_accuracy = calculate_accuracy(rf_random, X_train,\\\n",
    "                                                   y_train, X_test, y_test)\n",
    "print(train_accuracy)\n",
    "print(test_accuracy)\n",
    "# append the accuracy\n",
    "train_list.append(train_accuracy)\n",
    "test_list.append(test_accuracy)"
   ]
  },
  {
   "cell_type": "markdown",
   "metadata": {},
   "source": [
    "#### K Nearest Neighbors"
   ]
  },
  {
   "cell_type": "code",
   "execution_count": null,
   "metadata": {},
   "outputs": [],
   "source": [
    "\n",
    "#create new a knn model\n",
    "knn = KNeighborsClassifier()\n",
    "# create parameter grid\n",
    "param_grid = {\"n_neighbors\": np.arange(1, 20)}\n",
    "# do grid serach\n",
    "knn_cv = GridSearchCV(knn, param_grid, cv=5)\n",
    "\n",
    "# fit model\n",
    "knn_cv.fit(X_train, y_train)"
   ]
  },
  {
   "cell_type": "code",
   "execution_count": null,
   "metadata": {},
   "outputs": [],
   "source": [
    "knn_cv.best_score_"
   ]
  },
  {
   "cell_type": "code",
   "execution_count": null,
   "metadata": {},
   "outputs": [],
   "source": [
    "knn_cv.best_params_"
   ]
  },
  {
   "cell_type": "code",
   "execution_count": null,
   "metadata": {},
   "outputs": [],
   "source": [
    "knn_cv.best_estimator_"
   ]
  },
  {
   "cell_type": "code",
   "execution_count": null,
   "metadata": {},
   "outputs": [],
   "source": [
    "train_accuracy, test_accuracy = calculate_accuracy(knn_cv, X_train, y_train, X_test, y_test)\n",
    "print(train_accuracy)\n",
    "print(test_accuracy)\n",
    "# append the accuracy\n",
    "train_list.append(train_accuracy)\n",
    "test_list.append(test_accuracy)"
   ]
  },
  {
   "cell_type": "markdown",
   "metadata": {},
   "source": [
    "#### Automated Classifier using TPOT"
   ]
  },
  {
   "cell_type": "code",
   "execution_count": null,
   "metadata": {},
   "outputs": [],
   "source": [
    "# Create the tpot classifier\n",
    "tpot_clf = TPOTClassifier(generations=20, population_size=10,\n",
    "                          offspring_size=10, scoring=\"accuracy\",\n",
    "                          verbosity=2, random_state=42, cv=5)\n",
    "\n",
    "# Fit the classifier to the training data\n",
    "tpot_clf.fit(X_train, y_train)\n",
    "\n",
    "train_accuracy, test_accuracy = calculate_accuracy(tpot_clf,\\\n",
    "                    X_train, y_train, X_test, y_test)\n",
    "print(train_accuracy)\n",
    "print(test_accuracy)\n",
    "# append the accuracy\n",
    "train_list.append(train_accuracy)\n",
    "test_list.append(test_accuracy)"
   ]
  },
  {
   "cell_type": "markdown",
   "metadata": {},
   "source": [
    "# Evaluation <a class=\"anchor\" id=\"evaluation\"></a>"
   ]
  },
  {
   "cell_type": "code",
   "execution_count": null,
   "metadata": {},
   "outputs": [],
   "source": [
    "# build a daaframe of the model accuracies\n",
    "results = pd.DataFrame({\"Machine Learning Algorithm\":\\\n",
    "    [\"Logistic Regression\",\"Random Forest Classifier\",\\\n",
    "     \"K Nearest Classifier\", \"Automated Classifier TPOT\"],\\\n",
    "                        \"Training\":train_list,\"Test\":test_list})"
   ]
  },
  {
   "cell_type": "code",
   "execution_count": null,
   "metadata": {
    "scrolled": true
   },
   "outputs": [],
   "source": [
    "print(results)\n",
    "# set index\n",
    "results.set_index(\"Machine Learning Algorithm\",inplace=True)"
   ]
  },
  {
   "cell_type": "code",
   "execution_count": null,
   "metadata": {},
   "outputs": [],
   "source": [
    "results.plot(style='*-')\n",
    "plt.xticks(rotation=20);"
   ]
  },
  {
   "cell_type": "code",
   "execution_count": null,
   "metadata": {},
   "outputs": [],
   "source": [
    "# plot the model results\n",
    "results.plot(kind='bar')\n",
    "plt.show();"
   ]
  },
  {
   "cell_type": "markdown",
   "metadata": {},
   "source": [
    "Using 70% data as training and 30% data as testing we've fitted here four models to find the best model. \n",
    "In logistic regression, I've used 5 fold cross-validation.\n",
    "Random forest was optimized using a grid search and 5 fold cross-validation to find optimum model parameters.\n",
    "For k equals 1 to 20 K nearest neighbor model was optimized with 5 fold cross-validation to select the best value of k.\n",
    "Among the four fitted models, Random forest Classifier and K nearest neighbor shows overfitting while Automated Classifier TPOT shows underfitting. The logistic regression model seems to perform well and doesn't show overfitting and underfitting. It's also simple and explainable. So I would choose the Logistic Regression model as the best classifier for prediction divorce."
   ]
  },
  {
   "cell_type": "markdown",
   "metadata": {},
   "source": [
    "# Deployment <a class=\"anchor\" id=\"deployment\"></a>"
   ]
  },
  {
   "cell_type": "markdown",
   "metadata": {},
   "source": [
    "## Summary of Analysis"
   ]
  },
  {
   "cell_type": "markdown",
   "metadata": {},
   "source": [
    "Our conclusions are:\n",
    "    1. There exists a significant difference between married and divorced couples in all the topics        of the scale.\n",
    "    2. Divorced and married couple's top 5 disagreed topics were discussion, humiliating during the        discussion, insulting during the discussion, sudden discussion, breaking calm during the     discussion. \n",
    "\n",
    "    On the other hand, the top 5 most similar opinionated topics were having time at home for partners, acting like strangers in terms of sharing environment at home. Married couples agreed on average they have more time at home and act less like strangers about family and environment than divorced couples.\n",
    "    The other two topics where married couples were neutral but divorced couples agreed that they mostly stayed silent and felt right in their discussion.\n",
    "\n",
    "\n",
    "    Based on this we can say that married couples are more careful about their discussion, acts less like strangers in terms of sharing environment at home and gives more time to their partners.  \n",
    "    3. Divorced couples and married couples top 10 deciding questions we can see divorced couples and married couples gave opposite answers. \n",
    "    4. Using 70% data as training and 30% data logistic regression model performs best and it can 98.03% accurately predict divorce between couples. "
   ]
  },
  {
   "cell_type": "markdown",
   "metadata": {},
   "source": [
    "# Reference"
   ]
  },
  {
   "cell_type": "markdown",
   "metadata": {},
   "source": [
    "Yöntem, M.K. and İlhan, T. (2018). Boşanma Göstergeleri Ölçeğinin Geliştirilmesi.\n",
    "[Development of the Divorce Predictors Scale]. Sosyal Polika Çalışmaları Dergisi.\n",
    "41, 339-358."
   ]
  },
  {
   "cell_type": "markdown",
   "metadata": {},
   "source": [
    "Gottman, J. M. and Gottman, J.S. (2012). Çiftler Arasında Köprüyü İnşa Etmek:\n",
    "Gottman Çift Terapisi Eğitimi 1. Düzey Kitabı, [Level 1 Clinical Training. Gottman\n",
    "Method Couples Therapy. Bringing to Couple Chasm.] İstanbul: Psikoloji İstanbul."
   ]
  },
  {
   "cell_type": "markdown",
   "metadata": {},
   "source": [
    "Gottman, J. ve Silver, N. (2014). Aşk Nasıl Sürdürülür. Aşk Laboratuarından Sırlar.\n",
    "(trans. Gül, S.S.) [What Make Love Last. How to Build Trust and Avoid Betrayal.\n",
    "2012]. İstanbul: Varlık Yayınları."
   ]
  }
 ],
 "metadata": {
  "kernelspec": {
   "display_name": "Python 3",
   "language": "python",
   "name": "python3"
  },
  "language_info": {
   "codemirror_mode": {
    "name": "ipython",
    "version": 3
   },
   "file_extension": ".py",
   "mimetype": "text/x-python",
   "name": "python",
   "nbconvert_exporter": "python",
   "pygments_lexer": "ipython3",
   "version": "3.7.4"
  }
 },
 "nbformat": 4,
 "nbformat_minor": 2
}
